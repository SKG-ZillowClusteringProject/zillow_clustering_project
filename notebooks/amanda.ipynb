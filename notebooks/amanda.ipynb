{
 "cells": [
  {
   "cell_type": "code",
   "execution_count": 1,
   "metadata": {},
   "outputs": [],
   "source": [
    "#imports\n",
    "import pandas as pd\n",
    "import numpy as np\n",
    "import matplotlib.pyplot as plt\n",
    "import warnings\n",
    "import seaborn as sns\n",
    "from scipy import stats\n",
    "\n",
    "#functions\n",
    "import wrangle as w\n",
    "\n",
    "\n",
    "\n",
    "warnings.filterwarnings(\"ignore\")\n",
    "\n",
    "#evaluate\n",
    "from sklearn.metrics import mean_squared_error, r2_score, explained_variance_score\n",
    "from sklearn.feature_selection import f_regression \n",
    "from statsmodels.formula.api import ols\n",
    "import sklearn.preprocessing\n",
    "\n",
    "#feature engineering\n",
    "from sklearn.feature_selection import SelectKBest, f_regression\n",
    "from sklearn.linear_model import LinearRegression\n",
    "from sklearn.feature_selection import RFE\n",
    "from sklearn.model_selection import train_test_split\n",
    "from sklearn.preprocessing import MinMaxScaler\n",
    "\n",
    "# modeling methods\n",
    "from sklearn.metrics import mean_squared_error\n",
    "from sklearn.linear_model import LinearRegression, LassoLars, TweedieRegressor\n",
    "from sklearn.preprocessing import PolynomialFeatures"
   ]
  },
  {
   "cell_type": "code",
   "execution_count": 2,
   "metadata": {},
   "outputs": [],
   "source": [
    "df = w.zillow17()"
   ]
  },
  {
   "cell_type": "code",
   "execution_count": 3,
   "metadata": {},
   "outputs": [
    {
     "data": {
      "text/html": [
       "<div>\n",
       "<style scoped>\n",
       "    .dataframe tbody tr th:only-of-type {\n",
       "        vertical-align: middle;\n",
       "    }\n",
       "\n",
       "    .dataframe tbody tr th {\n",
       "        vertical-align: top;\n",
       "    }\n",
       "\n",
       "    .dataframe thead th {\n",
       "        text-align: right;\n",
       "    }\n",
       "</style>\n",
       "<table border=\"1\" class=\"dataframe\">\n",
       "  <thead>\n",
       "    <tr style=\"text-align: right;\">\n",
       "      <th></th>\n",
       "      <th>id</th>\n",
       "      <th>parcelid</th>\n",
       "      <th>airconditioningtypeid</th>\n",
       "      <th>architecturalstyletypeid</th>\n",
       "      <th>basementsqft</th>\n",
       "      <th>bathroomcnt</th>\n",
       "      <th>bedroomcnt</th>\n",
       "      <th>buildingclasstypeid</th>\n",
       "      <th>buildingqualitytypeid</th>\n",
       "      <th>calculatedbathnbr</th>\n",
       "      <th>...</th>\n",
       "      <th>censustractandblock</th>\n",
       "      <th>logerror</th>\n",
       "      <th>transactiondate</th>\n",
       "      <th>airconditioningdesc</th>\n",
       "      <th>architecturalstyledesc</th>\n",
       "      <th>buildingclassdesc</th>\n",
       "      <th>heatingorsystemdesc</th>\n",
       "      <th>propertylandusedesc</th>\n",
       "      <th>storydesc</th>\n",
       "      <th>typeconstructiondesc</th>\n",
       "    </tr>\n",
       "  </thead>\n",
       "  <tbody>\n",
       "    <tr>\n",
       "      <th>0</th>\n",
       "      <td>1087254</td>\n",
       "      <td>10711855</td>\n",
       "      <td>NaN</td>\n",
       "      <td>NaN</td>\n",
       "      <td>NaN</td>\n",
       "      <td>2.0</td>\n",
       "      <td>3.0</td>\n",
       "      <td>NaN</td>\n",
       "      <td>8.0</td>\n",
       "      <td>2.0</td>\n",
       "      <td>...</td>\n",
       "      <td>6.037113e+13</td>\n",
       "      <td>-0.007357</td>\n",
       "      <td>2017-07-07</td>\n",
       "      <td>None</td>\n",
       "      <td>None</td>\n",
       "      <td>None</td>\n",
       "      <td>Central</td>\n",
       "      <td>Single Family Residential</td>\n",
       "      <td>None</td>\n",
       "      <td>None</td>\n",
       "    </tr>\n",
       "    <tr>\n",
       "      <th>1</th>\n",
       "      <td>1072280</td>\n",
       "      <td>10711877</td>\n",
       "      <td>1.0</td>\n",
       "      <td>NaN</td>\n",
       "      <td>NaN</td>\n",
       "      <td>2.0</td>\n",
       "      <td>4.0</td>\n",
       "      <td>NaN</td>\n",
       "      <td>8.0</td>\n",
       "      <td>2.0</td>\n",
       "      <td>...</td>\n",
       "      <td>6.037113e+13</td>\n",
       "      <td>0.021066</td>\n",
       "      <td>2017-08-29</td>\n",
       "      <td>Central</td>\n",
       "      <td>None</td>\n",
       "      <td>None</td>\n",
       "      <td>Central</td>\n",
       "      <td>Single Family Residential</td>\n",
       "      <td>None</td>\n",
       "      <td>None</td>\n",
       "    </tr>\n",
       "    <tr>\n",
       "      <th>2</th>\n",
       "      <td>1340933</td>\n",
       "      <td>10711888</td>\n",
       "      <td>1.0</td>\n",
       "      <td>NaN</td>\n",
       "      <td>NaN</td>\n",
       "      <td>2.0</td>\n",
       "      <td>4.0</td>\n",
       "      <td>NaN</td>\n",
       "      <td>8.0</td>\n",
       "      <td>2.0</td>\n",
       "      <td>...</td>\n",
       "      <td>6.037113e+13</td>\n",
       "      <td>0.077174</td>\n",
       "      <td>2017-04-04</td>\n",
       "      <td>Central</td>\n",
       "      <td>None</td>\n",
       "      <td>None</td>\n",
       "      <td>Central</td>\n",
       "      <td>Single Family Residential</td>\n",
       "      <td>None</td>\n",
       "      <td>None</td>\n",
       "    </tr>\n",
       "    <tr>\n",
       "      <th>3</th>\n",
       "      <td>1878109</td>\n",
       "      <td>10711910</td>\n",
       "      <td>NaN</td>\n",
       "      <td>NaN</td>\n",
       "      <td>NaN</td>\n",
       "      <td>2.0</td>\n",
       "      <td>3.0</td>\n",
       "      <td>NaN</td>\n",
       "      <td>8.0</td>\n",
       "      <td>2.0</td>\n",
       "      <td>...</td>\n",
       "      <td>6.037113e+13</td>\n",
       "      <td>-0.041238</td>\n",
       "      <td>2017-03-17</td>\n",
       "      <td>None</td>\n",
       "      <td>None</td>\n",
       "      <td>None</td>\n",
       "      <td>Central</td>\n",
       "      <td>Single Family Residential</td>\n",
       "      <td>None</td>\n",
       "      <td>None</td>\n",
       "    </tr>\n",
       "    <tr>\n",
       "      <th>4</th>\n",
       "      <td>2190858</td>\n",
       "      <td>10711923</td>\n",
       "      <td>NaN</td>\n",
       "      <td>NaN</td>\n",
       "      <td>NaN</td>\n",
       "      <td>2.0</td>\n",
       "      <td>4.0</td>\n",
       "      <td>NaN</td>\n",
       "      <td>8.0</td>\n",
       "      <td>2.0</td>\n",
       "      <td>...</td>\n",
       "      <td>6.037113e+13</td>\n",
       "      <td>-0.009496</td>\n",
       "      <td>2017-03-24</td>\n",
       "      <td>None</td>\n",
       "      <td>None</td>\n",
       "      <td>None</td>\n",
       "      <td>Central</td>\n",
       "      <td>Single Family Residential</td>\n",
       "      <td>None</td>\n",
       "      <td>None</td>\n",
       "    </tr>\n",
       "  </tbody>\n",
       "</table>\n",
       "<p>5 rows × 68 columns</p>\n",
       "</div>"
      ],
      "text/plain": [
       "        id  parcelid  airconditioningtypeid  architecturalstyletypeid  \\\n",
       "0  1087254  10711855                    NaN                       NaN   \n",
       "1  1072280  10711877                    1.0                       NaN   \n",
       "2  1340933  10711888                    1.0                       NaN   \n",
       "3  1878109  10711910                    NaN                       NaN   \n",
       "4  2190858  10711923                    NaN                       NaN   \n",
       "\n",
       "   basementsqft  bathroomcnt  bedroomcnt  buildingclasstypeid  \\\n",
       "0           NaN          2.0         3.0                  NaN   \n",
       "1           NaN          2.0         4.0                  NaN   \n",
       "2           NaN          2.0         4.0                  NaN   \n",
       "3           NaN          2.0         3.0                  NaN   \n",
       "4           NaN          2.0         4.0                  NaN   \n",
       "\n",
       "   buildingqualitytypeid  calculatedbathnbr  ...  censustractandblock  \\\n",
       "0                    8.0                2.0  ...         6.037113e+13   \n",
       "1                    8.0                2.0  ...         6.037113e+13   \n",
       "2                    8.0                2.0  ...         6.037113e+13   \n",
       "3                    8.0                2.0  ...         6.037113e+13   \n",
       "4                    8.0                2.0  ...         6.037113e+13   \n",
       "\n",
       "   logerror  transactiondate  airconditioningdesc  architecturalstyledesc  \\\n",
       "0 -0.007357       2017-07-07                 None                    None   \n",
       "1  0.021066       2017-08-29              Central                    None   \n",
       "2  0.077174       2017-04-04              Central                    None   \n",
       "3 -0.041238       2017-03-17                 None                    None   \n",
       "4 -0.009496       2017-03-24                 None                    None   \n",
       "\n",
       "   buildingclassdesc  heatingorsystemdesc        propertylandusedesc  \\\n",
       "0               None              Central  Single Family Residential   \n",
       "1               None              Central  Single Family Residential   \n",
       "2               None              Central  Single Family Residential   \n",
       "3               None              Central  Single Family Residential   \n",
       "4               None              Central  Single Family Residential   \n",
       "\n",
       "   storydesc  typeconstructiondesc  \n",
       "0       None                  None  \n",
       "1       None                  None  \n",
       "2       None                  None  \n",
       "3       None                  None  \n",
       "4       None                  None  \n",
       "\n",
       "[5 rows x 68 columns]"
      ]
     },
     "execution_count": 3,
     "metadata": {},
     "output_type": "execute_result"
    }
   ],
   "source": [
    "df.head()"
   ]
  },
  {
   "cell_type": "code",
   "execution_count": 4,
   "metadata": {},
   "outputs": [
    {
     "data": {
      "text/plain": [
       "count    77374.000000\n",
       "mean      1784.948497\n",
       "std        954.265049\n",
       "min        128.000000\n",
       "25%       1182.000000\n",
       "50%       1542.000000\n",
       "75%       2112.000000\n",
       "max      35640.000000\n",
       "Name: calculatedfinishedsquarefeet, dtype: float64"
      ]
     },
     "execution_count": 4,
     "metadata": {},
     "output_type": "execute_result"
    }
   ],
   "source": [
    "df.calculatedfinishedsquarefeet.describe()"
   ]
  },
  {
   "cell_type": "code",
   "execution_count": 8,
   "metadata": {},
   "outputs": [
    {
     "data": {
      "text/plain": [
       "(0.0, 2000.0)"
      ]
     },
     "execution_count": 8,
     "metadata": {},
     "output_type": "execute_result"
    },
    {
     "data": {
      "image/png": "[encoded data removed]",
      "text/plain": [
       "<Figure size 432x288 with 1 Axes>"
      ]
     },
     "metadata": {
      "needs_background": "light"
     },
     "output_type": "display_data"
    }
   ],
   "source": [
    "df.calculatedfinishedsquarefeet.hist(bins=200)\n",
    "plt.xlim(0, 2000)"
   ]
  },
  {
   "cell_type": "code",
   "execution_count": 10,
   "metadata": {},
   "outputs": [
    {
     "data": {
      "text/plain": [
       "12"
      ]
     },
     "execution_count": 10,
     "metadata": {},
     "output_type": "execute_result"
    }
   ],
   "source": [
    "(df['calculatedfinishedsquarefeet']<350).sum()"
   ]
  },
  {
   "cell_type": "code",
   "execution_count": null,
   "metadata": {},
   "outputs": [],
   "source": [
    "(df['calculatedfinishedsquarefeet']<350).sum()"
   ]
  },
  {
   "cell_type": "markdown",
   "metadata": {
    "jupyter": {
     "source_hidden": true
    }
   },
   "source": [
    "\n",
    "~~31\tCommercial/Office/Residential Mixed Used~~\n",
    "\n",
    "~~46\tMulti-Story Store~~\n",
    "\n",
    "~~47\tStore/Office (Mixed Use)~~\n",
    "\n",
    "~~246\tDuplex (2 Units, Any Combination)~~\n",
    "\n",
    "~~247\tTriplex (3 Units, Any Combination)~~\n",
    "\n",
    "~~248\tQuadruplex (4 Units, Any Combination)~~\n",
    "\n",
    "260\tResidential General: 2996\n",
    "\n",
    "261\tSingle Family Residential\n",
    "\n",
    "~~262\tRural Residence~~ NONE\n",
    "\n",
    "263\tMobile Home\n",
    "\n",
    "264\tTownhouse\n",
    "\n",
    "265\tCluster Home NULL, count: 186\n",
    "\n",
    "266\tCondominium\n",
    "\n",
    "~~267\tCooperative~~ count: 12\n",
    "\n",
    "~~268\tRow House~~ NONE\n",
    "\n",
    "269\tPlanned Unit Development\n",
    "\n",
    "~~270\tResidential Common Area~~\n",
    "\n",
    "~~271\tTimeshare~~\n",
    "\n",
    "~~273\tBungalow~~ NONE\n",
    "\n",
    "~~274\tZero Lot Line~~ NONE\n",
    "\n",
    "275\tManufactured, Modular, Prefabricated Homes NULL, count:40\n",
    "\n",
    "~~276\tPatio Home~~ NONE\n",
    "\n",
    "~~279\tInferred Single Family Residential~~\n",
    "\n",
    "~~290\tVacant Land - General~~\n",
    "\n",
    "~~291\tResidential Vacant Land~~\n"
   ]
  },
  {
   "cell_type": "code",
   "execution_count": 4,
   "metadata": {},
   "outputs": [],
   "source": [
    "df = df.set_index(\"parcelid\")"
   ]
  },
  {
   "cell_type": "code",
   "execution_count": 5,
   "metadata": {},
   "outputs": [
    {
     "data": {
      "text/html": [
       "<div>\n",
       "<style scoped>\n",
       "    .dataframe tbody tr th:only-of-type {\n",
       "        vertical-align: middle;\n",
       "    }\n",
       "\n",
       "    .dataframe tbody tr th {\n",
       "        vertical-align: top;\n",
       "    }\n",
       "\n",
       "    .dataframe thead th {\n",
       "        text-align: right;\n",
       "    }\n",
       "</style>\n",
       "<table border=\"1\" class=\"dataframe\">\n",
       "  <thead>\n",
       "    <tr style=\"text-align: right;\">\n",
       "      <th></th>\n",
       "      <th>id</th>\n",
       "      <th>airconditioningtypeid</th>\n",
       "      <th>architecturalstyletypeid</th>\n",
       "      <th>basementsqft</th>\n",
       "      <th>bathroomcnt</th>\n",
       "      <th>bedroomcnt</th>\n",
       "      <th>buildingclasstypeid</th>\n",
       "      <th>buildingqualitytypeid</th>\n",
       "      <th>calculatedbathnbr</th>\n",
       "      <th>decktypeid</th>\n",
       "      <th>...</th>\n",
       "      <th>censustractandblock</th>\n",
       "      <th>logerror</th>\n",
       "      <th>transactiondate</th>\n",
       "      <th>airconditioningdesc</th>\n",
       "      <th>architecturalstyledesc</th>\n",
       "      <th>buildingclassdesc</th>\n",
       "      <th>heatingorsystemdesc</th>\n",
       "      <th>propertylandusedesc</th>\n",
       "      <th>storydesc</th>\n",
       "      <th>typeconstructiondesc</th>\n",
       "    </tr>\n",
       "    <tr>\n",
       "      <th>parcelid</th>\n",
       "      <th></th>\n",
       "      <th></th>\n",
       "      <th></th>\n",
       "      <th></th>\n",
       "      <th></th>\n",
       "      <th></th>\n",
       "      <th></th>\n",
       "      <th></th>\n",
       "      <th></th>\n",
       "      <th></th>\n",
       "      <th></th>\n",
       "      <th></th>\n",
       "      <th></th>\n",
       "      <th></th>\n",
       "      <th></th>\n",
       "      <th></th>\n",
       "      <th></th>\n",
       "      <th></th>\n",
       "      <th></th>\n",
       "      <th></th>\n",
       "      <th></th>\n",
       "    </tr>\n",
       "  </thead>\n",
       "  <tbody>\n",
       "    <tr>\n",
       "      <th>10711855</th>\n",
       "      <td>1087254</td>\n",
       "      <td>NaN</td>\n",
       "      <td>NaN</td>\n",
       "      <td>NaN</td>\n",
       "      <td>2.0</td>\n",
       "      <td>3.0</td>\n",
       "      <td>NaN</td>\n",
       "      <td>8.0</td>\n",
       "      <td>2.0</td>\n",
       "      <td>NaN</td>\n",
       "      <td>...</td>\n",
       "      <td>6.037113e+13</td>\n",
       "      <td>-0.007357</td>\n",
       "      <td>2017-07-07</td>\n",
       "      <td>None</td>\n",
       "      <td>None</td>\n",
       "      <td>None</td>\n",
       "      <td>Central</td>\n",
       "      <td>Single Family Residential</td>\n",
       "      <td>None</td>\n",
       "      <td>None</td>\n",
       "    </tr>\n",
       "    <tr>\n",
       "      <th>10711877</th>\n",
       "      <td>1072280</td>\n",
       "      <td>1.0</td>\n",
       "      <td>NaN</td>\n",
       "      <td>NaN</td>\n",
       "      <td>2.0</td>\n",
       "      <td>4.0</td>\n",
       "      <td>NaN</td>\n",
       "      <td>8.0</td>\n",
       "      <td>2.0</td>\n",
       "      <td>NaN</td>\n",
       "      <td>...</td>\n",
       "      <td>6.037113e+13</td>\n",
       "      <td>0.021066</td>\n",
       "      <td>2017-08-29</td>\n",
       "      <td>Central</td>\n",
       "      <td>None</td>\n",
       "      <td>None</td>\n",
       "      <td>Central</td>\n",
       "      <td>Single Family Residential</td>\n",
       "      <td>None</td>\n",
       "      <td>None</td>\n",
       "    </tr>\n",
       "    <tr>\n",
       "      <th>10711888</th>\n",
       "      <td>1340933</td>\n",
       "      <td>1.0</td>\n",
       "      <td>NaN</td>\n",
       "      <td>NaN</td>\n",
       "      <td>2.0</td>\n",
       "      <td>4.0</td>\n",
       "      <td>NaN</td>\n",
       "      <td>8.0</td>\n",
       "      <td>2.0</td>\n",
       "      <td>NaN</td>\n",
       "      <td>...</td>\n",
       "      <td>6.037113e+13</td>\n",
       "      <td>0.077174</td>\n",
       "      <td>2017-04-04</td>\n",
       "      <td>Central</td>\n",
       "      <td>None</td>\n",
       "      <td>None</td>\n",
       "      <td>Central</td>\n",
       "      <td>Single Family Residential</td>\n",
       "      <td>None</td>\n",
       "      <td>None</td>\n",
       "    </tr>\n",
       "    <tr>\n",
       "      <th>10711910</th>\n",
       "      <td>1878109</td>\n",
       "      <td>NaN</td>\n",
       "      <td>NaN</td>\n",
       "      <td>NaN</td>\n",
       "      <td>2.0</td>\n",
       "      <td>3.0</td>\n",
       "      <td>NaN</td>\n",
       "      <td>8.0</td>\n",
       "      <td>2.0</td>\n",
       "      <td>NaN</td>\n",
       "      <td>...</td>\n",
       "      <td>6.037113e+13</td>\n",
       "      <td>-0.041238</td>\n",
       "      <td>2017-03-17</td>\n",
       "      <td>None</td>\n",
       "      <td>None</td>\n",
       "      <td>None</td>\n",
       "      <td>Central</td>\n",
       "      <td>Single Family Residential</td>\n",
       "      <td>None</td>\n",
       "      <td>None</td>\n",
       "    </tr>\n",
       "    <tr>\n",
       "      <th>10711923</th>\n",
       "      <td>2190858</td>\n",
       "      <td>NaN</td>\n",
       "      <td>NaN</td>\n",
       "      <td>NaN</td>\n",
       "      <td>2.0</td>\n",
       "      <td>4.0</td>\n",
       "      <td>NaN</td>\n",
       "      <td>8.0</td>\n",
       "      <td>2.0</td>\n",
       "      <td>NaN</td>\n",
       "      <td>...</td>\n",
       "      <td>6.037113e+13</td>\n",
       "      <td>-0.009496</td>\n",
       "      <td>2017-03-24</td>\n",
       "      <td>None</td>\n",
       "      <td>None</td>\n",
       "      <td>None</td>\n",
       "      <td>Central</td>\n",
       "      <td>Single Family Residential</td>\n",
       "      <td>None</td>\n",
       "      <td>None</td>\n",
       "    </tr>\n",
       "  </tbody>\n",
       "</table>\n",
       "<p>5 rows × 67 columns</p>\n",
       "</div>"
      ],
      "text/plain": [
       "               id  airconditioningtypeid  architecturalstyletypeid  \\\n",
       "parcelid                                                             \n",
       "10711855  1087254                    NaN                       NaN   \n",
       "10711877  1072280                    1.0                       NaN   \n",
       "10711888  1340933                    1.0                       NaN   \n",
       "10711910  1878109                    NaN                       NaN   \n",
       "10711923  2190858                    NaN                       NaN   \n",
       "\n",
       "          basementsqft  bathroomcnt  bedroomcnt  buildingclasstypeid  \\\n",
       "parcelid                                                               \n",
       "10711855           NaN          2.0         3.0                  NaN   \n",
       "10711877           NaN          2.0         4.0                  NaN   \n",
       "10711888           NaN          2.0         4.0                  NaN   \n",
       "10711910           NaN          2.0         3.0                  NaN   \n",
       "10711923           NaN          2.0         4.0                  NaN   \n",
       "\n",
       "          buildingqualitytypeid  calculatedbathnbr  decktypeid  ...  \\\n",
       "parcelid                                                        ...   \n",
       "10711855                    8.0                2.0         NaN  ...   \n",
       "10711877                    8.0                2.0         NaN  ...   \n",
       "10711888                    8.0                2.0         NaN  ...   \n",
       "10711910                    8.0                2.0         NaN  ...   \n",
       "10711923                    8.0                2.0         NaN  ...   \n",
       "\n",
       "          censustractandblock  logerror  transactiondate  airconditioningdesc  \\\n",
       "parcelid                                                                        \n",
       "10711855         6.037113e+13 -0.007357       2017-07-07                 None   \n",
       "10711877         6.037113e+13  0.021066       2017-08-29              Central   \n",
       "10711888         6.037113e+13  0.077174       2017-04-04              Central   \n",
       "10711910         6.037113e+13 -0.041238       2017-03-17                 None   \n",
       "10711923         6.037113e+13 -0.009496       2017-03-24                 None   \n",
       "\n",
       "          architecturalstyledesc  buildingclassdesc  heatingorsystemdesc  \\\n",
       "parcelid                                                                   \n",
       "10711855                    None               None              Central   \n",
       "10711877                    None               None              Central   \n",
       "10711888                    None               None              Central   \n",
       "10711910                    None               None              Central   \n",
       "10711923                    None               None              Central   \n",
       "\n",
       "                propertylandusedesc  storydesc  typeconstructiondesc  \n",
       "parcelid                                                              \n",
       "10711855  Single Family Residential       None                  None  \n",
       "10711877  Single Family Residential       None                  None  \n",
       "10711888  Single Family Residential       None                  None  \n",
       "10711910  Single Family Residential       None                  None  \n",
       "10711923  Single Family Residential       None                  None  \n",
       "\n",
       "[5 rows x 67 columns]"
      ]
     },
     "execution_count": 5,
     "metadata": {},
     "output_type": "execute_result"
    }
   ],
   "source": [
    "df.head()"
   ]
  },
  {
   "cell_type": "code",
   "execution_count": 6,
   "metadata": {},
   "outputs": [],
   "source": [
    "df.to_csv(r'~/Codeup/codeup-data-science/zillow_clustering_project/notebooks/zillow.csv')"
   ]
  },
  {
   "cell_type": "code",
   "execution_count": 2,
   "metadata": {},
   "outputs": [],
   "source": [
    "df = pd.read_csv('zillow.csv')"
   ]
  },
  {
   "cell_type": "code",
   "execution_count": 3,
   "metadata": {},
   "outputs": [
    {
     "data": {
      "text/html": [
       "<div>\n",
       "<style scoped>\n",
       "    .dataframe tbody tr th:only-of-type {\n",
       "        vertical-align: middle;\n",
       "    }\n",
       "\n",
       "    .dataframe tbody tr th {\n",
       "        vertical-align: top;\n",
       "    }\n",
       "\n",
       "    .dataframe thead th {\n",
       "        text-align: right;\n",
       "    }\n",
       "</style>\n",
       "<table border=\"1\" class=\"dataframe\">\n",
       "  <thead>\n",
       "    <tr style=\"text-align: right;\">\n",
       "      <th></th>\n",
       "      <th>parcelid</th>\n",
       "      <th>id</th>\n",
       "      <th>airconditioningtypeid</th>\n",
       "      <th>architecturalstyletypeid</th>\n",
       "      <th>basementsqft</th>\n",
       "      <th>bathroomcnt</th>\n",
       "      <th>bedroomcnt</th>\n",
       "      <th>buildingclasstypeid</th>\n",
       "      <th>buildingqualitytypeid</th>\n",
       "      <th>calculatedbathnbr</th>\n",
       "      <th>...</th>\n",
       "      <th>censustractandblock</th>\n",
       "      <th>logerror</th>\n",
       "      <th>transactiondate</th>\n",
       "      <th>airconditioningdesc</th>\n",
       "      <th>architecturalstyledesc</th>\n",
       "      <th>buildingclassdesc</th>\n",
       "      <th>heatingorsystemdesc</th>\n",
       "      <th>propertylandusedesc</th>\n",
       "      <th>storydesc</th>\n",
       "      <th>typeconstructiondesc</th>\n",
       "    </tr>\n",
       "  </thead>\n",
       "  <tbody>\n",
       "    <tr>\n",
       "      <th>0</th>\n",
       "      <td>10711855</td>\n",
       "      <td>1087254</td>\n",
       "      <td>NaN</td>\n",
       "      <td>NaN</td>\n",
       "      <td>NaN</td>\n",
       "      <td>2.0</td>\n",
       "      <td>3.0</td>\n",
       "      <td>NaN</td>\n",
       "      <td>8.0</td>\n",
       "      <td>2.0</td>\n",
       "      <td>...</td>\n",
       "      <td>6.037113e+13</td>\n",
       "      <td>-0.007357</td>\n",
       "      <td>2017-07-07</td>\n",
       "      <td>NaN</td>\n",
       "      <td>NaN</td>\n",
       "      <td>NaN</td>\n",
       "      <td>Central</td>\n",
       "      <td>Single Family Residential</td>\n",
       "      <td>NaN</td>\n",
       "      <td>NaN</td>\n",
       "    </tr>\n",
       "    <tr>\n",
       "      <th>1</th>\n",
       "      <td>10711877</td>\n",
       "      <td>1072280</td>\n",
       "      <td>1.0</td>\n",
       "      <td>NaN</td>\n",
       "      <td>NaN</td>\n",
       "      <td>2.0</td>\n",
       "      <td>4.0</td>\n",
       "      <td>NaN</td>\n",
       "      <td>8.0</td>\n",
       "      <td>2.0</td>\n",
       "      <td>...</td>\n",
       "      <td>6.037113e+13</td>\n",
       "      <td>0.021066</td>\n",
       "      <td>2017-08-29</td>\n",
       "      <td>Central</td>\n",
       "      <td>NaN</td>\n",
       "      <td>NaN</td>\n",
       "      <td>Central</td>\n",
       "      <td>Single Family Residential</td>\n",
       "      <td>NaN</td>\n",
       "      <td>NaN</td>\n",
       "    </tr>\n",
       "    <tr>\n",
       "      <th>2</th>\n",
       "      <td>10711888</td>\n",
       "      <td>1340933</td>\n",
       "      <td>1.0</td>\n",
       "      <td>NaN</td>\n",
       "      <td>NaN</td>\n",
       "      <td>2.0</td>\n",
       "      <td>4.0</td>\n",
       "      <td>NaN</td>\n",
       "      <td>8.0</td>\n",
       "      <td>2.0</td>\n",
       "      <td>...</td>\n",
       "      <td>6.037113e+13</td>\n",
       "      <td>0.077174</td>\n",
       "      <td>2017-04-04</td>\n",
       "      <td>Central</td>\n",
       "      <td>NaN</td>\n",
       "      <td>NaN</td>\n",
       "      <td>Central</td>\n",
       "      <td>Single Family Residential</td>\n",
       "      <td>NaN</td>\n",
       "      <td>NaN</td>\n",
       "    </tr>\n",
       "    <tr>\n",
       "      <th>3</th>\n",
       "      <td>10711910</td>\n",
       "      <td>1878109</td>\n",
       "      <td>NaN</td>\n",
       "      <td>NaN</td>\n",
       "      <td>NaN</td>\n",
       "      <td>2.0</td>\n",
       "      <td>3.0</td>\n",
       "      <td>NaN</td>\n",
       "      <td>8.0</td>\n",
       "      <td>2.0</td>\n",
       "      <td>...</td>\n",
       "      <td>6.037113e+13</td>\n",
       "      <td>-0.041238</td>\n",
       "      <td>2017-03-17</td>\n",
       "      <td>NaN</td>\n",
       "      <td>NaN</td>\n",
       "      <td>NaN</td>\n",
       "      <td>Central</td>\n",
       "      <td>Single Family Residential</td>\n",
       "      <td>NaN</td>\n",
       "      <td>NaN</td>\n",
       "    </tr>\n",
       "    <tr>\n",
       "      <th>4</th>\n",
       "      <td>10711923</td>\n",
       "      <td>2190858</td>\n",
       "      <td>NaN</td>\n",
       "      <td>NaN</td>\n",
       "      <td>NaN</td>\n",
       "      <td>2.0</td>\n",
       "      <td>4.0</td>\n",
       "      <td>NaN</td>\n",
       "      <td>8.0</td>\n",
       "      <td>2.0</td>\n",
       "      <td>...</td>\n",
       "      <td>6.037113e+13</td>\n",
       "      <td>-0.009496</td>\n",
       "      <td>2017-03-24</td>\n",
       "      <td>NaN</td>\n",
       "      <td>NaN</td>\n",
       "      <td>NaN</td>\n",
       "      <td>Central</td>\n",
       "      <td>Single Family Residential</td>\n",
       "      <td>NaN</td>\n",
       "      <td>NaN</td>\n",
       "    </tr>\n",
       "  </tbody>\n",
       "</table>\n",
       "<p>5 rows × 68 columns</p>\n",
       "</div>"
      ],
      "text/plain": [
       "   parcelid       id  airconditioningtypeid  architecturalstyletypeid  \\\n",
       "0  10711855  1087254                    NaN                       NaN   \n",
       "1  10711877  1072280                    1.0                       NaN   \n",
       "2  10711888  1340933                    1.0                       NaN   \n",
       "3  10711910  1878109                    NaN                       NaN   \n",
       "4  10711923  2190858                    NaN                       NaN   \n",
       "\n",
       "   basementsqft  bathroomcnt  bedroomcnt  buildingclasstypeid  \\\n",
       "0           NaN          2.0         3.0                  NaN   \n",
       "1           NaN          2.0         4.0                  NaN   \n",
       "2           NaN          2.0         4.0                  NaN   \n",
       "3           NaN          2.0         3.0                  NaN   \n",
       "4           NaN          2.0         4.0                  NaN   \n",
       "\n",
       "   buildingqualitytypeid  calculatedbathnbr  ...  censustractandblock  \\\n",
       "0                    8.0                2.0  ...         6.037113e+13   \n",
       "1                    8.0                2.0  ...         6.037113e+13   \n",
       "2                    8.0                2.0  ...         6.037113e+13   \n",
       "3                    8.0                2.0  ...         6.037113e+13   \n",
       "4                    8.0                2.0  ...         6.037113e+13   \n",
       "\n",
       "   logerror  transactiondate  airconditioningdesc  architecturalstyledesc  \\\n",
       "0 -0.007357       2017-07-07                  NaN                     NaN   \n",
       "1  0.021066       2017-08-29              Central                     NaN   \n",
       "2  0.077174       2017-04-04              Central                     NaN   \n",
       "3 -0.041238       2017-03-17                  NaN                     NaN   \n",
       "4 -0.009496       2017-03-24                  NaN                     NaN   \n",
       "\n",
       "   buildingclassdesc  heatingorsystemdesc        propertylandusedesc  \\\n",
       "0                NaN              Central  Single Family Residential   \n",
       "1                NaN              Central  Single Family Residential   \n",
       "2                NaN              Central  Single Family Residential   \n",
       "3                NaN              Central  Single Family Residential   \n",
       "4                NaN              Central  Single Family Residential   \n",
       "\n",
       "   storydesc  typeconstructiondesc  \n",
       "0        NaN                   NaN  \n",
       "1        NaN                   NaN  \n",
       "2        NaN                   NaN  \n",
       "3        NaN                   NaN  \n",
       "4        NaN                   NaN  \n",
       "\n",
       "[5 rows x 68 columns]"
      ]
     },
     "execution_count": 3,
     "metadata": {},
     "output_type": "execute_result"
    }
   ],
   "source": [
    "df.head()"
   ]
  },
  {
   "cell_type": "code",
   "execution_count": 3,
   "metadata": {},
   "outputs": [
    {
     "data": {
      "text/plain": [
       "(77574, 68)"
      ]
     },
     "execution_count": 3,
     "metadata": {},
     "output_type": "execute_result"
    }
   ],
   "source": [
    "df.shape"
   ]
  },
  {
   "cell_type": "code",
   "execution_count": 4,
   "metadata": {},
   "outputs": [],
   "source": [
    "single_use = [260, 261, 262, 263, 264, 265, 266, 267, 268, 269, 273, 275, 276, 279]\n",
    "df = df[df.propertylandusetypeid.isin(single_use)]"
   ]
  },
  {
   "cell_type": "code",
   "execution_count": 5,
   "metadata": {},
   "outputs": [
    {
     "data": {
      "text/plain": [
       "(74270, 68)"
      ]
     },
     "execution_count": 5,
     "metadata": {},
     "output_type": "execute_result"
    }
   ],
   "source": [
    "df.shape"
   ]
  },
  {
   "cell_type": "code",
   "execution_count": 6,
   "metadata": {},
   "outputs": [],
   "source": [
    "#df = df[(df.bedroomcnt > 0) & (df.bathroomcnt > 0) & ((df.unitcnt<=1)|df.unitcnt.isnull())\\\n",
    "#            & (df.calculatedfinishedsquarefeet>500)]"
   ]
  },
  {
   "cell_type": "code",
   "execution_count": 7,
   "metadata": {},
   "outputs": [
    {
     "data": {
      "text/plain": [
       "(73561, 68)"
      ]
     },
     "execution_count": 7,
     "metadata": {},
     "output_type": "execute_result"
    }
   ],
   "source": [
    "#df.shape"
   ]
  },
  {
   "cell_type": "code",
   "execution_count": 6,
   "metadata": {},
   "outputs": [],
   "source": [
    "df = df[(df.bedroomcnt > 0) & (df.bathroomcnt > 0) & ((df.unitcnt<=1)|df.unitcnt.isnull())\\\n",
    "            & (df.calculatedfinishedsquarefeet>350)]"
   ]
  },
  {
   "cell_type": "code",
   "execution_count": 7,
   "metadata": {},
   "outputs": [
    {
     "data": {
      "text/plain": [
       "(73705, 68)"
      ]
     },
     "execution_count": 7,
     "metadata": {},
     "output_type": "execute_result"
    }
   ],
   "source": [
    "df.shape"
   ]
  },
  {
   "cell_type": "code",
   "execution_count": 8,
   "metadata": {},
   "outputs": [],
   "source": [
    "#z = w.drop_based_on_pct(df, .6, .7)"
   ]
  },
  {
   "cell_type": "code",
   "execution_count": 9,
   "metadata": {},
   "outputs": [
    {
     "data": {
      "text/plain": [
       "(73705, 34)"
      ]
     },
     "execution_count": 9,
     "metadata": {},
     "output_type": "execute_result"
    }
   ],
   "source": [
    "#z.shape"
   ]
  },
  {
   "cell_type": "code",
   "execution_count": 8,
   "metadata": {},
   "outputs": [],
   "source": [
    "df = w.drop_based_on_pct(df, .6, .7)"
   ]
  },
  {
   "cell_type": "code",
   "execution_count": 9,
   "metadata": {},
   "outputs": [
    {
     "data": {
      "text/plain": [
       "(73705, 34)"
      ]
     },
     "execution_count": 9,
     "metadata": {},
     "output_type": "execute_result"
    }
   ],
   "source": [
    "df.shape"
   ]
  },
  {
   "cell_type": "code",
   "execution_count": 10,
   "metadata": {},
   "outputs": [],
   "source": [
    "df['county'] = np.where(df.fips == 6037, 'Los_Angeles',\n",
    "                       np.where(df.fips == 6059, 'Orange',\n",
    "                               'Ventura'))"
   ]
  },
  {
   "cell_type": "code",
   "execution_count": 11,
   "metadata": {},
   "outputs": [
    {
     "data": {
      "text/plain": [
       "(73705, 35)"
      ]
     },
     "execution_count": 11,
     "metadata": {},
     "output_type": "execute_result"
    }
   ],
   "source": [
    "df.shape"
   ]
  },
  {
   "cell_type": "code",
   "execution_count": 12,
   "metadata": {},
   "outputs": [],
   "source": [
    "df = df.drop(['id',\n",
    "       'calculatedbathnbr', 'finishedsquarefeet12', 'fullbathcnt', 'heatingorsystemtypeid'\n",
    "       ,'propertycountylandusecode', 'propertylandusetypeid','propertyzoningdesc',\n",
    "        'censustractandblock', 'propertylandusedesc', 'heatingorsystemdesc'],axis=1)"
   ]
  },
  {
   "cell_type": "code",
   "execution_count": 13,
   "metadata": {},
   "outputs": [
    {
     "data": {
      "text/plain": [
       "(73705, 24)"
      ]
     },
     "execution_count": 13,
     "metadata": {},
     "output_type": "execute_result"
    }
   ],
   "source": [
    "df.shape"
   ]
  },
  {
   "cell_type": "code",
   "execution_count": 14,
   "metadata": {},
   "outputs": [],
   "source": [
    "df.rename(columns={\"bathroomcnt\": \"bathrooms\", \n",
    "                   \"bedroomcnt\": \"bedrooms\",\n",
    "                   \"buildingqualitytypeid\": \"property_quality\", \n",
    "                   \"calculatedfinishedsquarefeet\": \"sqft\",\n",
    "                   \"lotsizesquarefeet\": \"lot_sqft\",\n",
    "                   \"regionidzip\": \"zip_code\",\n",
    "                   \"landtaxvaluedollarcnt\": \"land_value\",\n",
    "                   \"structuretaxvaluedollarcnt\": \"structure_value\",\n",
    "                   \"taxvaluedollarcnt\": \"home_value\",\n",
    "                   \"heatingorsystemdesc\": \"heating_system\",\n",
    "                  }, inplace=True)"
   ]
  },
  {
   "cell_type": "code",
   "execution_count": 15,
   "metadata": {},
   "outputs": [
    {
     "data": {
      "text/plain": [
       "(73705, 24)"
      ]
     },
     "execution_count": 15,
     "metadata": {},
     "output_type": "execute_result"
    }
   ],
   "source": [
    "df.shape"
   ]
  },
  {
   "cell_type": "code",
   "execution_count": 17,
   "metadata": {},
   "outputs": [
    {
     "data": {
      "text/html": [
       "<div>\n",
       "<style scoped>\n",
       "    .dataframe tbody tr th:only-of-type {\n",
       "        vertical-align: middle;\n",
       "    }\n",
       "\n",
       "    .dataframe tbody tr th {\n",
       "        vertical-align: top;\n",
       "    }\n",
       "\n",
       "    .dataframe thead th {\n",
       "        text-align: right;\n",
       "    }\n",
       "</style>\n",
       "<table border=\"1\" class=\"dataframe\">\n",
       "  <thead>\n",
       "    <tr style=\"text-align: right;\">\n",
       "      <th></th>\n",
       "      <th>parcelid</th>\n",
       "      <th>bathrooms</th>\n",
       "      <th>bedrooms</th>\n",
       "      <th>property_quality</th>\n",
       "      <th>sqft</th>\n",
       "      <th>fips</th>\n",
       "      <th>latitude</th>\n",
       "      <th>longitude</th>\n",
       "      <th>lot_sqft</th>\n",
       "      <th>rawcensustractandblock</th>\n",
       "      <th>...</th>\n",
       "      <th>unitcnt</th>\n",
       "      <th>yearbuilt</th>\n",
       "      <th>structure_value</th>\n",
       "      <th>home_value</th>\n",
       "      <th>assessmentyear</th>\n",
       "      <th>land_value</th>\n",
       "      <th>taxamount</th>\n",
       "      <th>logerror</th>\n",
       "      <th>transactiondate</th>\n",
       "      <th>county</th>\n",
       "    </tr>\n",
       "  </thead>\n",
       "  <tbody>\n",
       "    <tr>\n",
       "      <th>0</th>\n",
       "      <td>10711855</td>\n",
       "      <td>2.0</td>\n",
       "      <td>3.0</td>\n",
       "      <td>8.0</td>\n",
       "      <td>2107.0</td>\n",
       "      <td>6037.0</td>\n",
       "      <td>34222559.0</td>\n",
       "      <td>-118617387.0</td>\n",
       "      <td>9158.0</td>\n",
       "      <td>6.037113e+07</td>\n",
       "      <td>...</td>\n",
       "      <td>1.0</td>\n",
       "      <td>1972.0</td>\n",
       "      <td>249655.0</td>\n",
       "      <td>624139.0</td>\n",
       "      <td>2016.0</td>\n",
       "      <td>374484.0</td>\n",
       "      <td>7659.36</td>\n",
       "      <td>-0.007357</td>\n",
       "      <td>2017-07-07</td>\n",
       "      <td>Los_Angeles</td>\n",
       "    </tr>\n",
       "    <tr>\n",
       "      <th>1</th>\n",
       "      <td>10711877</td>\n",
       "      <td>2.0</td>\n",
       "      <td>4.0</td>\n",
       "      <td>8.0</td>\n",
       "      <td>1882.0</td>\n",
       "      <td>6037.0</td>\n",
       "      <td>34220261.0</td>\n",
       "      <td>-118616409.0</td>\n",
       "      <td>9035.0</td>\n",
       "      <td>6.037113e+07</td>\n",
       "      <td>...</td>\n",
       "      <td>1.0</td>\n",
       "      <td>1972.0</td>\n",
       "      <td>253000.0</td>\n",
       "      <td>660000.0</td>\n",
       "      <td>2016.0</td>\n",
       "      <td>407000.0</td>\n",
       "      <td>8123.91</td>\n",
       "      <td>0.021066</td>\n",
       "      <td>2017-08-29</td>\n",
       "      <td>Los_Angeles</td>\n",
       "    </tr>\n",
       "  </tbody>\n",
       "</table>\n",
       "<p>2 rows × 24 columns</p>\n",
       "</div>"
      ],
      "text/plain": [
       "   parcelid  bathrooms  bedrooms  property_quality    sqft    fips  \\\n",
       "0  10711855        2.0       3.0               8.0  2107.0  6037.0   \n",
       "1  10711877        2.0       4.0               8.0  1882.0  6037.0   \n",
       "\n",
       "     latitude    longitude  lot_sqft  rawcensustractandblock  ...  unitcnt  \\\n",
       "0  34222559.0 -118617387.0    9158.0            6.037113e+07  ...      1.0   \n",
       "1  34220261.0 -118616409.0    9035.0            6.037113e+07  ...      1.0   \n",
       "\n",
       "   yearbuilt  structure_value  home_value  assessmentyear  land_value  \\\n",
       "0     1972.0         249655.0    624139.0          2016.0    374484.0   \n",
       "1     1972.0         253000.0    660000.0          2016.0    407000.0   \n",
       "\n",
       "   taxamount  logerror  transactiondate       county  \n",
       "0    7659.36 -0.007357       2017-07-07  Los_Angeles  \n",
       "1    8123.91  0.021066       2017-08-29  Los_Angeles  \n",
       "\n",
       "[2 rows x 24 columns]"
      ]
     },
     "execution_count": 17,
     "metadata": {},
     "output_type": "execute_result"
    }
   ],
   "source": [
    "df.head(2)"
   ]
  },
  {
   "cell_type": "code",
   "execution_count": 18,
   "metadata": {},
   "outputs": [
    {
     "data": {
      "text/plain": [
       "parcelid                      0\n",
       "bathrooms                     0\n",
       "bedrooms                      0\n",
       "property_quality          26884\n",
       "sqft                          0\n",
       "fips                          0\n",
       "latitude                      0\n",
       "longitude                     0\n",
       "lot_sqft                   8121\n",
       "rawcensustractandblock        0\n",
       "regionidcity               1437\n",
       "regionidcounty                0\n",
       "zip_code                     43\n",
       "roomcnt                       0\n",
       "unitcnt                   26570\n",
       "yearbuilt                    35\n",
       "structure_value              75\n",
       "home_value                    1\n",
       "assessmentyear                0\n",
       "land_value                    1\n",
       "taxamount                     5\n",
       "logerror                      0\n",
       "transactiondate               0\n",
       "county                        0\n",
       "dtype: int64"
      ]
     },
     "execution_count": 18,
     "metadata": {},
     "output_type": "execute_result"
    }
   ],
   "source": [
    "df.isnull().sum()"
   ]
  },
  {
   "cell_type": "code",
   "execution_count": 15,
   "metadata": {},
   "outputs": [
    {
     "data": {
      "text/html": [
       "<div>\n",
       "<style scoped>\n",
       "    .dataframe tbody tr th:only-of-type {\n",
       "        vertical-align: middle;\n",
       "    }\n",
       "\n",
       "    .dataframe tbody tr th {\n",
       "        vertical-align: top;\n",
       "    }\n",
       "\n",
       "    .dataframe thead th {\n",
       "        text-align: right;\n",
       "    }\n",
       "</style>\n",
       "<table border=\"1\" class=\"dataframe\">\n",
       "  <thead>\n",
       "    <tr style=\"text-align: right;\">\n",
       "      <th></th>\n",
       "      <th>137</th>\n",
       "      <th>2168</th>\n",
       "      <th>2169</th>\n",
       "      <th>2170</th>\n",
       "      <th>2171</th>\n",
       "      <th>2172</th>\n",
       "      <th>2173</th>\n",
       "      <th>2174</th>\n",
       "      <th>2175</th>\n",
       "      <th>2176</th>\n",
       "      <th>...</th>\n",
       "      <th>77539</th>\n",
       "      <th>77540</th>\n",
       "      <th>77541</th>\n",
       "      <th>77542</th>\n",
       "      <th>77543</th>\n",
       "      <th>77544</th>\n",
       "      <th>77545</th>\n",
       "      <th>77546</th>\n",
       "      <th>77547</th>\n",
       "      <th>77548</th>\n",
       "    </tr>\n",
       "  </thead>\n",
       "  <tbody>\n",
       "    <tr>\n",
       "      <th>parcelid</th>\n",
       "      <td>10717985</td>\n",
       "      <td>10794853</td>\n",
       "      <td>10794855</td>\n",
       "      <td>10794876</td>\n",
       "      <td>10794889</td>\n",
       "      <td>10794891</td>\n",
       "      <td>10794906</td>\n",
       "      <td>10794909</td>\n",
       "      <td>10794921</td>\n",
       "      <td>10794923</td>\n",
       "      <td>...</td>\n",
       "      <td>17300850</td>\n",
       "      <td>17300852</td>\n",
       "      <td>17300860</td>\n",
       "      <td>17300863</td>\n",
       "      <td>79640490</td>\n",
       "      <td>93577187</td>\n",
       "      <td>162960516</td>\n",
       "      <td>162960529</td>\n",
       "      <td>162960596</td>\n",
       "      <td>162960814</td>\n",
       "    </tr>\n",
       "    <tr>\n",
       "      <th>id</th>\n",
       "      <td>642531</td>\n",
       "      <td>2385878</td>\n",
       "      <td>223477</td>\n",
       "      <td>2520019</td>\n",
       "      <td>2251771</td>\n",
       "      <td>1192913</td>\n",
       "      <td>939333</td>\n",
       "      <td>2490117</td>\n",
       "      <td>1192839</td>\n",
       "      <td>1476217</td>\n",
       "      <td>...</td>\n",
       "      <td>2074306</td>\n",
       "      <td>224867</td>\n",
       "      <td>1224099</td>\n",
       "      <td>1821141</td>\n",
       "      <td>2133032</td>\n",
       "      <td>1699893</td>\n",
       "      <td>1686026</td>\n",
       "      <td>2415168</td>\n",
       "      <td>1134005</td>\n",
       "      <td>1671696</td>\n",
       "    </tr>\n",
       "    <tr>\n",
       "      <th>bathrooms</th>\n",
       "      <td>3</td>\n",
       "      <td>2</td>\n",
       "      <td>2</td>\n",
       "      <td>2</td>\n",
       "      <td>1</td>\n",
       "      <td>2</td>\n",
       "      <td>2</td>\n",
       "      <td>2</td>\n",
       "      <td>2</td>\n",
       "      <td>1</td>\n",
       "      <td>...</td>\n",
       "      <td>3.5</td>\n",
       "      <td>3</td>\n",
       "      <td>3</td>\n",
       "      <td>5.5</td>\n",
       "      <td>2.5</td>\n",
       "      <td>2</td>\n",
       "      <td>2.5</td>\n",
       "      <td>4</td>\n",
       "      <td>2</td>\n",
       "      <td>3</td>\n",
       "    </tr>\n",
       "    <tr>\n",
       "      <th>bedrooms</th>\n",
       "      <td>4</td>\n",
       "      <td>2</td>\n",
       "      <td>3</td>\n",
       "      <td>2</td>\n",
       "      <td>1</td>\n",
       "      <td>2</td>\n",
       "      <td>2</td>\n",
       "      <td>2</td>\n",
       "      <td>2</td>\n",
       "      <td>1</td>\n",
       "      <td>...</td>\n",
       "      <td>4</td>\n",
       "      <td>3</td>\n",
       "      <td>4</td>\n",
       "      <td>5</td>\n",
       "      <td>3</td>\n",
       "      <td>2</td>\n",
       "      <td>3</td>\n",
       "      <td>4</td>\n",
       "      <td>4</td>\n",
       "      <td>5</td>\n",
       "    </tr>\n",
       "    <tr>\n",
       "      <th>property_quality</th>\n",
       "      <td>8</td>\n",
       "      <td>7</td>\n",
       "      <td>7</td>\n",
       "      <td>7</td>\n",
       "      <td>7</td>\n",
       "      <td>7</td>\n",
       "      <td>7</td>\n",
       "      <td>7</td>\n",
       "      <td>7</td>\n",
       "      <td>7</td>\n",
       "      <td>...</td>\n",
       "      <td>NaN</td>\n",
       "      <td>NaN</td>\n",
       "      <td>NaN</td>\n",
       "      <td>NaN</td>\n",
       "      <td>NaN</td>\n",
       "      <td>NaN</td>\n",
       "      <td>NaN</td>\n",
       "      <td>NaN</td>\n",
       "      <td>NaN</td>\n",
       "      <td>NaN</td>\n",
       "    </tr>\n",
       "    <tr>\n",
       "      <th>calculatedbathnbr</th>\n",
       "      <td>3</td>\n",
       "      <td>2</td>\n",
       "      <td>2</td>\n",
       "      <td>2</td>\n",
       "      <td>1</td>\n",
       "      <td>2</td>\n",
       "      <td>2</td>\n",
       "      <td>2</td>\n",
       "      <td>2</td>\n",
       "      <td>1</td>\n",
       "      <td>...</td>\n",
       "      <td>3.5</td>\n",
       "      <td>3</td>\n",
       "      <td>3</td>\n",
       "      <td>5.5</td>\n",
       "      <td>2.5</td>\n",
       "      <td>2</td>\n",
       "      <td>2.5</td>\n",
       "      <td>4</td>\n",
       "      <td>2</td>\n",
       "      <td>3</td>\n",
       "    </tr>\n",
       "    <tr>\n",
       "      <th>sqft</th>\n",
       "      <td>2478</td>\n",
       "      <td>1050</td>\n",
       "      <td>1280</td>\n",
       "      <td>1050</td>\n",
       "      <td>640</td>\n",
       "      <td>1060</td>\n",
       "      <td>1050</td>\n",
       "      <td>1050</td>\n",
       "      <td>1050</td>\n",
       "      <td>650</td>\n",
       "      <td>...</td>\n",
       "      <td>3080</td>\n",
       "      <td>2250</td>\n",
       "      <td>2560</td>\n",
       "      <td>4983</td>\n",
       "      <td>1688</td>\n",
       "      <td>900</td>\n",
       "      <td>1449</td>\n",
       "      <td>2459</td>\n",
       "      <td>1379</td>\n",
       "      <td>2754</td>\n",
       "    </tr>\n",
       "    <tr>\n",
       "      <th>finishedsquarefeet12</th>\n",
       "      <td>2478</td>\n",
       "      <td>1050</td>\n",
       "      <td>1280</td>\n",
       "      <td>1050</td>\n",
       "      <td>640</td>\n",
       "      <td>1060</td>\n",
       "      <td>1050</td>\n",
       "      <td>1050</td>\n",
       "      <td>1050</td>\n",
       "      <td>650</td>\n",
       "      <td>...</td>\n",
       "      <td>3080</td>\n",
       "      <td>2250</td>\n",
       "      <td>2560</td>\n",
       "      <td>4983</td>\n",
       "      <td>1688</td>\n",
       "      <td>900</td>\n",
       "      <td>1449</td>\n",
       "      <td>2459</td>\n",
       "      <td>1379</td>\n",
       "      <td>2754</td>\n",
       "    </tr>\n",
       "    <tr>\n",
       "      <th>fips</th>\n",
       "      <td>6037</td>\n",
       "      <td>6037</td>\n",
       "      <td>6037</td>\n",
       "      <td>6037</td>\n",
       "      <td>6037</td>\n",
       "      <td>6037</td>\n",
       "      <td>6037</td>\n",
       "      <td>6037</td>\n",
       "      <td>6037</td>\n",
       "      <td>6037</td>\n",
       "      <td>...</td>\n",
       "      <td>6111</td>\n",
       "      <td>6111</td>\n",
       "      <td>6111</td>\n",
       "      <td>6111</td>\n",
       "      <td>6059</td>\n",
       "      <td>6111</td>\n",
       "      <td>6111</td>\n",
       "      <td>6111</td>\n",
       "      <td>6111</td>\n",
       "      <td>6111</td>\n",
       "    </tr>\n",
       "    <tr>\n",
       "      <th>fullbathcnt</th>\n",
       "      <td>3</td>\n",
       "      <td>2</td>\n",
       "      <td>2</td>\n",
       "      <td>2</td>\n",
       "      <td>1</td>\n",
       "      <td>2</td>\n",
       "      <td>2</td>\n",
       "      <td>2</td>\n",
       "      <td>2</td>\n",
       "      <td>1</td>\n",
       "      <td>...</td>\n",
       "      <td>3</td>\n",
       "      <td>3</td>\n",
       "      <td>3</td>\n",
       "      <td>5</td>\n",
       "      <td>2</td>\n",
       "      <td>2</td>\n",
       "      <td>2</td>\n",
       "      <td>4</td>\n",
       "      <td>2</td>\n",
       "      <td>3</td>\n",
       "    </tr>\n",
       "    <tr>\n",
       "      <th>heatingorsystemtypeid</th>\n",
       "      <td>2</td>\n",
       "      <td>2</td>\n",
       "      <td>2</td>\n",
       "      <td>2</td>\n",
       "      <td>2</td>\n",
       "      <td>2</td>\n",
       "      <td>2</td>\n",
       "      <td>2</td>\n",
       "      <td>2</td>\n",
       "      <td>2</td>\n",
       "      <td>...</td>\n",
       "      <td>NaN</td>\n",
       "      <td>NaN</td>\n",
       "      <td>NaN</td>\n",
       "      <td>NaN</td>\n",
       "      <td>NaN</td>\n",
       "      <td>NaN</td>\n",
       "      <td>NaN</td>\n",
       "      <td>NaN</td>\n",
       "      <td>NaN</td>\n",
       "      <td>NaN</td>\n",
       "    </tr>\n",
       "    <tr>\n",
       "      <th>latitude</th>\n",
       "      <td>3.42091e+07</td>\n",
       "      <td>3.41835e+07</td>\n",
       "      <td>3.41835e+07</td>\n",
       "      <td>3.41835e+07</td>\n",
       "      <td>3.41835e+07</td>\n",
       "      <td>3.41835e+07</td>\n",
       "      <td>3.41835e+07</td>\n",
       "      <td>3.41835e+07</td>\n",
       "      <td>3.41835e+07</td>\n",
       "      <td>3.41835e+07</td>\n",
       "      <td>...</td>\n",
       "      <td>3.42011e+07</td>\n",
       "      <td>3.42017e+07</td>\n",
       "      <td>3.4201e+07</td>\n",
       "      <td>3.4199e+07</td>\n",
       "      <td>3.38768e+07</td>\n",
       "      <td>3.42124e+07</td>\n",
       "      <td>3.42739e+07</td>\n",
       "      <td>3.42456e+07</td>\n",
       "      <td>3.42196e+07</td>\n",
       "      <td>3.42582e+07</td>\n",
       "    </tr>\n",
       "    <tr>\n",
       "      <th>longitude</th>\n",
       "      <td>-1.18658e+08</td>\n",
       "      <td>-1.18596e+08</td>\n",
       "      <td>-1.18596e+08</td>\n",
       "      <td>-1.18596e+08</td>\n",
       "      <td>-1.18596e+08</td>\n",
       "      <td>-1.18596e+08</td>\n",
       "      <td>-1.18596e+08</td>\n",
       "      <td>-1.18596e+08</td>\n",
       "      <td>-1.18596e+08</td>\n",
       "      <td>-1.18596e+08</td>\n",
       "      <td>...</td>\n",
       "      <td>-1.18679e+08</td>\n",
       "      <td>-1.18679e+08</td>\n",
       "      <td>-1.18679e+08</td>\n",
       "      <td>-1.18676e+08</td>\n",
       "      <td>-1.17988e+08</td>\n",
       "      <td>-1.19027e+08</td>\n",
       "      <td>-1.19165e+08</td>\n",
       "      <td>-1.1917e+08</td>\n",
       "      <td>-1.19043e+08</td>\n",
       "      <td>-1.18731e+08</td>\n",
       "    </tr>\n",
       "    <tr>\n",
       "      <th>lot_sqft</th>\n",
       "      <td>9417</td>\n",
       "      <td>134581</td>\n",
       "      <td>134581</td>\n",
       "      <td>134581</td>\n",
       "      <td>134581</td>\n",
       "      <td>134581</td>\n",
       "      <td>134581</td>\n",
       "      <td>134581</td>\n",
       "      <td>134581</td>\n",
       "      <td>134581</td>\n",
       "      <td>...</td>\n",
       "      <td>21785</td>\n",
       "      <td>24662</td>\n",
       "      <td>21802</td>\n",
       "      <td>32226</td>\n",
       "      <td>3474</td>\n",
       "      <td>NaN</td>\n",
       "      <td>6926</td>\n",
       "      <td>5400</td>\n",
       "      <td>7343</td>\n",
       "      <td>5742</td>\n",
       "    </tr>\n",
       "    <tr>\n",
       "      <th>propertycountylandusecode</th>\n",
       "      <td>0100</td>\n",
       "      <td>010C</td>\n",
       "      <td>010C</td>\n",
       "      <td>010C</td>\n",
       "      <td>010C</td>\n",
       "      <td>010C</td>\n",
       "      <td>010C</td>\n",
       "      <td>010C</td>\n",
       "      <td>010C</td>\n",
       "      <td>010C</td>\n",
       "      <td>...</td>\n",
       "      <td>1110</td>\n",
       "      <td>1110</td>\n",
       "      <td>1110</td>\n",
       "      <td>1110</td>\n",
       "      <td>1</td>\n",
       "      <td>1129</td>\n",
       "      <td>1111</td>\n",
       "      <td>1111</td>\n",
       "      <td>1111</td>\n",
       "      <td>1111</td>\n",
       "    </tr>\n",
       "    <tr>\n",
       "      <th>propertylandusetypeid</th>\n",
       "      <td>261</td>\n",
       "      <td>266</td>\n",
       "      <td>266</td>\n",
       "      <td>266</td>\n",
       "      <td>266</td>\n",
       "      <td>266</td>\n",
       "      <td>266</td>\n",
       "      <td>266</td>\n",
       "      <td>266</td>\n",
       "      <td>266</td>\n",
       "      <td>...</td>\n",
       "      <td>261</td>\n",
       "      <td>261</td>\n",
       "      <td>261</td>\n",
       "      <td>261</td>\n",
       "      <td>261</td>\n",
       "      <td>266</td>\n",
       "      <td>261</td>\n",
       "      <td>261</td>\n",
       "      <td>261</td>\n",
       "      <td>261</td>\n",
       "    </tr>\n",
       "    <tr>\n",
       "      <th>propertyzoningdesc</th>\n",
       "      <td>LARE11</td>\n",
       "      <td>LAWC</td>\n",
       "      <td>LAWC</td>\n",
       "      <td>LAWC</td>\n",
       "      <td>LAWC</td>\n",
       "      <td>LAWC</td>\n",
       "      <td>LAWC</td>\n",
       "      <td>LAWC</td>\n",
       "      <td>LAWC</td>\n",
       "      <td>LAWC</td>\n",
       "      <td>...</td>\n",
       "      <td>NaN</td>\n",
       "      <td>NaN</td>\n",
       "      <td>NaN</td>\n",
       "      <td>NaN</td>\n",
       "      <td>NaN</td>\n",
       "      <td>NaN</td>\n",
       "      <td>NaN</td>\n",
       "      <td>NaN</td>\n",
       "      <td>NaN</td>\n",
       "      <td>NaN</td>\n",
       "    </tr>\n",
       "    <tr>\n",
       "      <th>rawcensustractandblock</th>\n",
       "      <td>6.03713e+07</td>\n",
       "      <td>6.03713e+07</td>\n",
       "      <td>6.03713e+07</td>\n",
       "      <td>6.03713e+07</td>\n",
       "      <td>6.03713e+07</td>\n",
       "      <td>6.03713e+07</td>\n",
       "      <td>6.03713e+07</td>\n",
       "      <td>6.03713e+07</td>\n",
       "      <td>6.03713e+07</td>\n",
       "      <td>6.03713e+07</td>\n",
       "      <td>...</td>\n",
       "      <td>6.11101e+07</td>\n",
       "      <td>6.11101e+07</td>\n",
       "      <td>6.11101e+07</td>\n",
       "      <td>6.11101e+07</td>\n",
       "      <td>6.05911e+07</td>\n",
       "      <td>6.11101e+07</td>\n",
       "      <td>6.111e+07</td>\n",
       "      <td>6.11101e+07</td>\n",
       "      <td>6.11101e+07</td>\n",
       "      <td>6.11101e+07</td>\n",
       "    </tr>\n",
       "    <tr>\n",
       "      <th>regionidcity</th>\n",
       "      <td>12447</td>\n",
       "      <td>12447</td>\n",
       "      <td>12447</td>\n",
       "      <td>12447</td>\n",
       "      <td>12447</td>\n",
       "      <td>12447</td>\n",
       "      <td>12447</td>\n",
       "      <td>12447</td>\n",
       "      <td>12447</td>\n",
       "      <td>12447</td>\n",
       "      <td>...</td>\n",
       "      <td>42091</td>\n",
       "      <td>42091</td>\n",
       "      <td>42091</td>\n",
       "      <td>42091</td>\n",
       "      <td>NaN</td>\n",
       "      <td>51239</td>\n",
       "      <td>34543</td>\n",
       "      <td>13150</td>\n",
       "      <td>51239</td>\n",
       "      <td>27110</td>\n",
       "    </tr>\n",
       "    <tr>\n",
       "      <th>regionidcounty</th>\n",
       "      <td>3101</td>\n",
       "      <td>3101</td>\n",
       "      <td>3101</td>\n",
       "      <td>3101</td>\n",
       "      <td>3101</td>\n",
       "      <td>3101</td>\n",
       "      <td>3101</td>\n",
       "      <td>3101</td>\n",
       "      <td>3101</td>\n",
       "      <td>3101</td>\n",
       "      <td>...</td>\n",
       "      <td>2061</td>\n",
       "      <td>2061</td>\n",
       "      <td>2061</td>\n",
       "      <td>2061</td>\n",
       "      <td>1286</td>\n",
       "      <td>2061</td>\n",
       "      <td>2061</td>\n",
       "      <td>2061</td>\n",
       "      <td>2061</td>\n",
       "      <td>2061</td>\n",
       "    </tr>\n",
       "    <tr>\n",
       "      <th>zip_code</th>\n",
       "      <td>96339</td>\n",
       "      <td>96389</td>\n",
       "      <td>96389</td>\n",
       "      <td>96389</td>\n",
       "      <td>96389</td>\n",
       "      <td>96389</td>\n",
       "      <td>96389</td>\n",
       "      <td>96389</td>\n",
       "      <td>96389</td>\n",
       "      <td>96389</td>\n",
       "      <td>...</td>\n",
       "      <td>96342</td>\n",
       "      <td>96342</td>\n",
       "      <td>96342</td>\n",
       "      <td>96342</td>\n",
       "      <td>NaN</td>\n",
       "      <td>97091</td>\n",
       "      <td>97084</td>\n",
       "      <td>97107</td>\n",
       "      <td>97089</td>\n",
       "      <td>97118</td>\n",
       "    </tr>\n",
       "    <tr>\n",
       "      <th>roomcnt</th>\n",
       "      <td>0</td>\n",
       "      <td>0</td>\n",
       "      <td>0</td>\n",
       "      <td>0</td>\n",
       "      <td>0</td>\n",
       "      <td>0</td>\n",
       "      <td>0</td>\n",
       "      <td>0</td>\n",
       "      <td>0</td>\n",
       "      <td>0</td>\n",
       "      <td>...</td>\n",
       "      <td>7</td>\n",
       "      <td>6</td>\n",
       "      <td>8</td>\n",
       "      <td>9</td>\n",
       "      <td>0</td>\n",
       "      <td>4</td>\n",
       "      <td>5</td>\n",
       "      <td>7</td>\n",
       "      <td>7</td>\n",
       "      <td>9</td>\n",
       "    </tr>\n",
       "    <tr>\n",
       "      <th>unitcnt</th>\n",
       "      <td>NaN</td>\n",
       "      <td>NaN</td>\n",
       "      <td>NaN</td>\n",
       "      <td>NaN</td>\n",
       "      <td>NaN</td>\n",
       "      <td>NaN</td>\n",
       "      <td>NaN</td>\n",
       "      <td>NaN</td>\n",
       "      <td>NaN</td>\n",
       "      <td>NaN</td>\n",
       "      <td>...</td>\n",
       "      <td>NaN</td>\n",
       "      <td>NaN</td>\n",
       "      <td>NaN</td>\n",
       "      <td>NaN</td>\n",
       "      <td>NaN</td>\n",
       "      <td>NaN</td>\n",
       "      <td>NaN</td>\n",
       "      <td>NaN</td>\n",
       "      <td>NaN</td>\n",
       "      <td>NaN</td>\n",
       "    </tr>\n",
       "    <tr>\n",
       "      <th>yearbuilt</th>\n",
       "      <td>1995</td>\n",
       "      <td>2010</td>\n",
       "      <td>2010</td>\n",
       "      <td>2010</td>\n",
       "      <td>2010</td>\n",
       "      <td>2010</td>\n",
       "      <td>2010</td>\n",
       "      <td>2010</td>\n",
       "      <td>2010</td>\n",
       "      <td>2010</td>\n",
       "      <td>...</td>\n",
       "      <td>1976</td>\n",
       "      <td>NaN</td>\n",
       "      <td>1976</td>\n",
       "      <td>2001</td>\n",
       "      <td>2002</td>\n",
       "      <td>2006</td>\n",
       "      <td>1986</td>\n",
       "      <td>2007</td>\n",
       "      <td>1960</td>\n",
       "      <td>2000</td>\n",
       "    </tr>\n",
       "    <tr>\n",
       "      <th>structure_value</th>\n",
       "      <td>301711</td>\n",
       "      <td>242340</td>\n",
       "      <td>326268</td>\n",
       "      <td>242340</td>\n",
       "      <td>177272</td>\n",
       "      <td>242127</td>\n",
       "      <td>228837</td>\n",
       "      <td>228837</td>\n",
       "      <td>252598</td>\n",
       "      <td>171117</td>\n",
       "      <td>...</td>\n",
       "      <td>292255</td>\n",
       "      <td>109740</td>\n",
       "      <td>286394</td>\n",
       "      <td>865487</td>\n",
       "      <td>173471</td>\n",
       "      <td>108211</td>\n",
       "      <td>288913</td>\n",
       "      <td>169000</td>\n",
       "      <td>224567</td>\n",
       "      <td>292666</td>\n",
       "    </tr>\n",
       "    <tr>\n",
       "      <th>taxvaluedollarcnt</th>\n",
       "      <td>464491</td>\n",
       "      <td>446709</td>\n",
       "      <td>466324</td>\n",
       "      <td>448740</td>\n",
       "      <td>253245</td>\n",
       "      <td>345895</td>\n",
       "      <td>412698</td>\n",
       "      <td>439602</td>\n",
       "      <td>360823</td>\n",
       "      <td>244452</td>\n",
       "      <td>...</td>\n",
       "      <td>658375</td>\n",
       "      <td>168949</td>\n",
       "      <td>795548</td>\n",
       "      <td>1.53839e+06</td>\n",
       "      <td>314659</td>\n",
       "      <td>309621</td>\n",
       "      <td>481521</td>\n",
       "      <td>479000</td>\n",
       "      <td>449134</td>\n",
       "      <td>487774</td>\n",
       "    </tr>\n",
       "    <tr>\n",
       "      <th>assessmentyear</th>\n",
       "      <td>2016</td>\n",
       "      <td>2016</td>\n",
       "      <td>2016</td>\n",
       "      <td>2016</td>\n",
       "      <td>2016</td>\n",
       "      <td>2016</td>\n",
       "      <td>2016</td>\n",
       "      <td>2016</td>\n",
       "      <td>2016</td>\n",
       "      <td>2016</td>\n",
       "      <td>...</td>\n",
       "      <td>2016</td>\n",
       "      <td>2016</td>\n",
       "      <td>2016</td>\n",
       "      <td>2016</td>\n",
       "      <td>2016</td>\n",
       "      <td>2016</td>\n",
       "      <td>2016</td>\n",
       "      <td>2016</td>\n",
       "      <td>2016</td>\n",
       "      <td>2016</td>\n",
       "    </tr>\n",
       "    <tr>\n",
       "      <th>land_value</th>\n",
       "      <td>162780</td>\n",
       "      <td>204369</td>\n",
       "      <td>140056</td>\n",
       "      <td>206400</td>\n",
       "      <td>75973</td>\n",
       "      <td>103768</td>\n",
       "      <td>183861</td>\n",
       "      <td>210765</td>\n",
       "      <td>108225</td>\n",
       "      <td>73335</td>\n",
       "      <td>...</td>\n",
       "      <td>366120</td>\n",
       "      <td>59209</td>\n",
       "      <td>509154</td>\n",
       "      <td>672902</td>\n",
       "      <td>141188</td>\n",
       "      <td>201410</td>\n",
       "      <td>192608</td>\n",
       "      <td>310000</td>\n",
       "      <td>224567</td>\n",
       "      <td>195108</td>\n",
       "    </tr>\n",
       "    <tr>\n",
       "      <th>taxamount</th>\n",
       "      <td>5801.39</td>\n",
       "      <td>5409.89</td>\n",
       "      <td>5653.42</td>\n",
       "      <td>5434.1</td>\n",
       "      <td>3093.68</td>\n",
       "      <td>4125.33</td>\n",
       "      <td>5004.52</td>\n",
       "      <td>5325.18</td>\n",
       "      <td>4302.82</td>\n",
       "      <td>2982.32</td>\n",
       "      <td>...</td>\n",
       "      <td>7803.82</td>\n",
       "      <td>2464.6</td>\n",
       "      <td>9300.28</td>\n",
       "      <td>17404.5</td>\n",
       "      <td>3785.04</td>\n",
       "      <td>3280.22</td>\n",
       "      <td>5063.3</td>\n",
       "      <td>12285.9</td>\n",
       "      <td>4787.16</td>\n",
       "      <td>5602.9</td>\n",
       "    </tr>\n",
       "    <tr>\n",
       "      <th>censustractandblock</th>\n",
       "      <td>6.03713e+13</td>\n",
       "      <td>6.03713e+13</td>\n",
       "      <td>6.03713e+13</td>\n",
       "      <td>6.03713e+13</td>\n",
       "      <td>6.03713e+13</td>\n",
       "      <td>6.03713e+13</td>\n",
       "      <td>6.03713e+13</td>\n",
       "      <td>6.03713e+13</td>\n",
       "      <td>6.03713e+13</td>\n",
       "      <td>6.03713e+13</td>\n",
       "      <td>...</td>\n",
       "      <td>6.11101e+13</td>\n",
       "      <td>6.11101e+13</td>\n",
       "      <td>6.11101e+13</td>\n",
       "      <td>6.11101e+13</td>\n",
       "      <td>NaN</td>\n",
       "      <td>6.11101e+13</td>\n",
       "      <td>6.111e+13</td>\n",
       "      <td>6.11101e+13</td>\n",
       "      <td>6.11101e+13</td>\n",
       "      <td>6.11101e+13</td>\n",
       "    </tr>\n",
       "    <tr>\n",
       "      <th>logerror</th>\n",
       "      <td>0.0119136</td>\n",
       "      <td>0.0208822</td>\n",
       "      <td>-0.0265073</td>\n",
       "      <td>0.0488047</td>\n",
       "      <td>-0.00224761</td>\n",
       "      <td>0.0241178</td>\n",
       "      <td>0.0241916</td>\n",
       "      <td>0.157069</td>\n",
       "      <td>0.0218435</td>\n",
       "      <td>0.0424955</td>\n",
       "      <td>...</td>\n",
       "      <td>0.0570538</td>\n",
       "      <td>-0.0613854</td>\n",
       "      <td>0.0566674</td>\n",
       "      <td>0.0604307</td>\n",
       "      <td>0.551633</td>\n",
       "      <td>0.01873</td>\n",
       "      <td>0.0157972</td>\n",
       "      <td>0.00711666</td>\n",
       "      <td>0.0320176</td>\n",
       "      <td>-0.00699462</td>\n",
       "    </tr>\n",
       "    <tr>\n",
       "      <th>transactiondate</th>\n",
       "      <td>2017-06-30</td>\n",
       "      <td>2017-08-31</td>\n",
       "      <td>2017-04-03</td>\n",
       "      <td>2017-03-10</td>\n",
       "      <td>2017-08-22</td>\n",
       "      <td>2017-06-21</td>\n",
       "      <td>2017-08-10</td>\n",
       "      <td>2017-03-30</td>\n",
       "      <td>2017-02-23</td>\n",
       "      <td>2017-06-30</td>\n",
       "      <td>...</td>\n",
       "      <td>2017-02-01</td>\n",
       "      <td>2017-08-25</td>\n",
       "      <td>2017-06-14</td>\n",
       "      <td>2017-06-16</td>\n",
       "      <td>2017-07-28</td>\n",
       "      <td>2017-03-15</td>\n",
       "      <td>2017-05-08</td>\n",
       "      <td>2017-05-26</td>\n",
       "      <td>2017-07-18</td>\n",
       "      <td>2017-05-19</td>\n",
       "    </tr>\n",
       "    <tr>\n",
       "      <th>heating_system</th>\n",
       "      <td>Central</td>\n",
       "      <td>Central</td>\n",
       "      <td>Central</td>\n",
       "      <td>Central</td>\n",
       "      <td>Central</td>\n",
       "      <td>Central</td>\n",
       "      <td>Central</td>\n",
       "      <td>Central</td>\n",
       "      <td>Central</td>\n",
       "      <td>Central</td>\n",
       "      <td>...</td>\n",
       "      <td>NaN</td>\n",
       "      <td>NaN</td>\n",
       "      <td>NaN</td>\n",
       "      <td>NaN</td>\n",
       "      <td>NaN</td>\n",
       "      <td>NaN</td>\n",
       "      <td>NaN</td>\n",
       "      <td>NaN</td>\n",
       "      <td>NaN</td>\n",
       "      <td>NaN</td>\n",
       "    </tr>\n",
       "    <tr>\n",
       "      <th>propertylandusedesc</th>\n",
       "      <td>Single Family Residential</td>\n",
       "      <td>Condominium</td>\n",
       "      <td>Condominium</td>\n",
       "      <td>Condominium</td>\n",
       "      <td>Condominium</td>\n",
       "      <td>Condominium</td>\n",
       "      <td>Condominium</td>\n",
       "      <td>Condominium</td>\n",
       "      <td>Condominium</td>\n",
       "      <td>Condominium</td>\n",
       "      <td>...</td>\n",
       "      <td>Single Family Residential</td>\n",
       "      <td>Single Family Residential</td>\n",
       "      <td>Single Family Residential</td>\n",
       "      <td>Single Family Residential</td>\n",
       "      <td>Single Family Residential</td>\n",
       "      <td>Condominium</td>\n",
       "      <td>Single Family Residential</td>\n",
       "      <td>Single Family Residential</td>\n",
       "      <td>Single Family Residential</td>\n",
       "      <td>Single Family Residential</td>\n",
       "    </tr>\n",
       "    <tr>\n",
       "      <th>county</th>\n",
       "      <td>Los_Angeles</td>\n",
       "      <td>Los_Angeles</td>\n",
       "      <td>Los_Angeles</td>\n",
       "      <td>Los_Angeles</td>\n",
       "      <td>Los_Angeles</td>\n",
       "      <td>Los_Angeles</td>\n",
       "      <td>Los_Angeles</td>\n",
       "      <td>Los_Angeles</td>\n",
       "      <td>Los_Angeles</td>\n",
       "      <td>Los_Angeles</td>\n",
       "      <td>...</td>\n",
       "      <td>Ventura</td>\n",
       "      <td>Ventura</td>\n",
       "      <td>Ventura</td>\n",
       "      <td>Ventura</td>\n",
       "      <td>Orange</td>\n",
       "      <td>Ventura</td>\n",
       "      <td>Ventura</td>\n",
       "      <td>Ventura</td>\n",
       "      <td>Ventura</td>\n",
       "      <td>Ventura</td>\n",
       "    </tr>\n",
       "  </tbody>\n",
       "</table>\n",
       "<p>35 rows × 26570 columns</p>\n",
       "</div>"
      ],
      "text/plain": [
       "                                               137          2168   \\\n",
       "parcelid                                    10717985     10794853   \n",
       "id                                            642531      2385878   \n",
       "bathrooms                                          3            2   \n",
       "bedrooms                                           4            2   \n",
       "property_quality                                   8            7   \n",
       "calculatedbathnbr                                  3            2   \n",
       "sqft                                            2478         1050   \n",
       "finishedsquarefeet12                            2478         1050   \n",
       "fips                                            6037         6037   \n",
       "fullbathcnt                                        3            2   \n",
       "heatingorsystemtypeid                              2            2   \n",
       "latitude                                 3.42091e+07  3.41835e+07   \n",
       "longitude                               -1.18658e+08 -1.18596e+08   \n",
       "lot_sqft                                        9417       134581   \n",
       "propertycountylandusecode                       0100         010C   \n",
       "propertylandusetypeid                            261          266   \n",
       "propertyzoningdesc                            LARE11         LAWC   \n",
       "rawcensustractandblock                   6.03713e+07  6.03713e+07   \n",
       "regionidcity                                   12447        12447   \n",
       "regionidcounty                                  3101         3101   \n",
       "zip_code                                       96339        96389   \n",
       "roomcnt                                            0            0   \n",
       "unitcnt                                          NaN          NaN   \n",
       "yearbuilt                                       1995         2010   \n",
       "structure_value                               301711       242340   \n",
       "taxvaluedollarcnt                             464491       446709   \n",
       "assessmentyear                                  2016         2016   \n",
       "land_value                                    162780       204369   \n",
       "taxamount                                    5801.39      5409.89   \n",
       "censustractandblock                      6.03713e+13  6.03713e+13   \n",
       "logerror                                   0.0119136    0.0208822   \n",
       "transactiondate                           2017-06-30   2017-08-31   \n",
       "heating_system                               Central      Central   \n",
       "propertylandusedesc        Single Family Residential  Condominium   \n",
       "county                                   Los_Angeles  Los_Angeles   \n",
       "\n",
       "                                 2169         2170         2171         2172   \\\n",
       "parcelid                      10794855     10794876     10794889     10794891   \n",
       "id                              223477      2520019      2251771      1192913   \n",
       "bathrooms                            2            2            1            2   \n",
       "bedrooms                             3            2            1            2   \n",
       "property_quality                     7            7            7            7   \n",
       "calculatedbathnbr                    2            2            1            2   \n",
       "sqft                              1280         1050          640         1060   \n",
       "finishedsquarefeet12              1280         1050          640         1060   \n",
       "fips                              6037         6037         6037         6037   \n",
       "fullbathcnt                          2            2            1            2   \n",
       "heatingorsystemtypeid                2            2            2            2   \n",
       "latitude                   3.41835e+07  3.41835e+07  3.41835e+07  3.41835e+07   \n",
       "longitude                 -1.18596e+08 -1.18596e+08 -1.18596e+08 -1.18596e+08   \n",
       "lot_sqft                        134581       134581       134581       134581   \n",
       "propertycountylandusecode         010C         010C         010C         010C   \n",
       "propertylandusetypeid              266          266          266          266   \n",
       "propertyzoningdesc                LAWC         LAWC         LAWC         LAWC   \n",
       "rawcensustractandblock     6.03713e+07  6.03713e+07  6.03713e+07  6.03713e+07   \n",
       "regionidcity                     12447        12447        12447        12447   \n",
       "regionidcounty                    3101         3101         3101         3101   \n",
       "zip_code                         96389        96389        96389        96389   \n",
       "roomcnt                              0            0            0            0   \n",
       "unitcnt                            NaN          NaN          NaN          NaN   \n",
       "yearbuilt                         2010         2010         2010         2010   \n",
       "structure_value                 326268       242340       177272       242127   \n",
       "taxvaluedollarcnt               466324       448740       253245       345895   \n",
       "assessmentyear                    2016         2016         2016         2016   \n",
       "land_value                      140056       206400        75973       103768   \n",
       "taxamount                      5653.42       5434.1      3093.68      4125.33   \n",
       "censustractandblock        6.03713e+13  6.03713e+13  6.03713e+13  6.03713e+13   \n",
       "logerror                    -0.0265073    0.0488047  -0.00224761    0.0241178   \n",
       "transactiondate             2017-04-03   2017-03-10   2017-08-22   2017-06-21   \n",
       "heating_system                 Central      Central      Central      Central   \n",
       "propertylandusedesc        Condominium  Condominium  Condominium  Condominium   \n",
       "county                     Los_Angeles  Los_Angeles  Los_Angeles  Los_Angeles   \n",
       "\n",
       "                                 2173         2174         2175         2176   \\\n",
       "parcelid                      10794906     10794909     10794921     10794923   \n",
       "id                              939333      2490117      1192839      1476217   \n",
       "bathrooms                            2            2            2            1   \n",
       "bedrooms                             2            2            2            1   \n",
       "property_quality                     7            7            7            7   \n",
       "calculatedbathnbr                    2            2            2            1   \n",
       "sqft                              1050         1050         1050          650   \n",
       "finishedsquarefeet12              1050         1050         1050          650   \n",
       "fips                              6037         6037         6037         6037   \n",
       "fullbathcnt                          2            2            2            1   \n",
       "heatingorsystemtypeid                2            2            2            2   \n",
       "latitude                   3.41835e+07  3.41835e+07  3.41835e+07  3.41835e+07   \n",
       "longitude                 -1.18596e+08 -1.18596e+08 -1.18596e+08 -1.18596e+08   \n",
       "lot_sqft                        134581       134581       134581       134581   \n",
       "propertycountylandusecode         010C         010C         010C         010C   \n",
       "propertylandusetypeid              266          266          266          266   \n",
       "propertyzoningdesc                LAWC         LAWC         LAWC         LAWC   \n",
       "rawcensustractandblock     6.03713e+07  6.03713e+07  6.03713e+07  6.03713e+07   \n",
       "regionidcity                     12447        12447        12447        12447   \n",
       "regionidcounty                    3101         3101         3101         3101   \n",
       "zip_code                         96389        96389        96389        96389   \n",
       "roomcnt                              0            0            0            0   \n",
       "unitcnt                            NaN          NaN          NaN          NaN   \n",
       "yearbuilt                         2010         2010         2010         2010   \n",
       "structure_value                 228837       228837       252598       171117   \n",
       "taxvaluedollarcnt               412698       439602       360823       244452   \n",
       "assessmentyear                    2016         2016         2016         2016   \n",
       "land_value                      183861       210765       108225        73335   \n",
       "taxamount                      5004.52      5325.18      4302.82      2982.32   \n",
       "censustractandblock        6.03713e+13  6.03713e+13  6.03713e+13  6.03713e+13   \n",
       "logerror                     0.0241916     0.157069    0.0218435    0.0424955   \n",
       "transactiondate             2017-08-10   2017-03-30   2017-02-23   2017-06-30   \n",
       "heating_system                 Central      Central      Central      Central   \n",
       "propertylandusedesc        Condominium  Condominium  Condominium  Condominium   \n",
       "county                     Los_Angeles  Los_Angeles  Los_Angeles  Los_Angeles   \n",
       "\n",
       "                           ...                      77539  \\\n",
       "parcelid                   ...                   17300850   \n",
       "id                         ...                    2074306   \n",
       "bathrooms                  ...                        3.5   \n",
       "bedrooms                   ...                          4   \n",
       "property_quality           ...                        NaN   \n",
       "calculatedbathnbr          ...                        3.5   \n",
       "sqft                       ...                       3080   \n",
       "finishedsquarefeet12       ...                       3080   \n",
       "fips                       ...                       6111   \n",
       "fullbathcnt                ...                          3   \n",
       "heatingorsystemtypeid      ...                        NaN   \n",
       "latitude                   ...                3.42011e+07   \n",
       "longitude                  ...               -1.18679e+08   \n",
       "lot_sqft                   ...                      21785   \n",
       "propertycountylandusecode  ...                       1110   \n",
       "propertylandusetypeid      ...                        261   \n",
       "propertyzoningdesc         ...                        NaN   \n",
       "rawcensustractandblock     ...                6.11101e+07   \n",
       "regionidcity               ...                      42091   \n",
       "regionidcounty             ...                       2061   \n",
       "zip_code                   ...                      96342   \n",
       "roomcnt                    ...                          7   \n",
       "unitcnt                    ...                        NaN   \n",
       "yearbuilt                  ...                       1976   \n",
       "structure_value            ...                     292255   \n",
       "taxvaluedollarcnt          ...                     658375   \n",
       "assessmentyear             ...                       2016   \n",
       "land_value                 ...                     366120   \n",
       "taxamount                  ...                    7803.82   \n",
       "censustractandblock        ...                6.11101e+13   \n",
       "logerror                   ...                  0.0570538   \n",
       "transactiondate            ...                 2017-02-01   \n",
       "heating_system             ...                        NaN   \n",
       "propertylandusedesc        ...  Single Family Residential   \n",
       "county                     ...                    Ventura   \n",
       "\n",
       "                                               77540  \\\n",
       "parcelid                                    17300852   \n",
       "id                                            224867   \n",
       "bathrooms                                          3   \n",
       "bedrooms                                           3   \n",
       "property_quality                                 NaN   \n",
       "calculatedbathnbr                                  3   \n",
       "sqft                                            2250   \n",
       "finishedsquarefeet12                            2250   \n",
       "fips                                            6111   \n",
       "fullbathcnt                                        3   \n",
       "heatingorsystemtypeid                            NaN   \n",
       "latitude                                 3.42017e+07   \n",
       "longitude                               -1.18679e+08   \n",
       "lot_sqft                                       24662   \n",
       "propertycountylandusecode                       1110   \n",
       "propertylandusetypeid                            261   \n",
       "propertyzoningdesc                               NaN   \n",
       "rawcensustractandblock                   6.11101e+07   \n",
       "regionidcity                                   42091   \n",
       "regionidcounty                                  2061   \n",
       "zip_code                                       96342   \n",
       "roomcnt                                            6   \n",
       "unitcnt                                          NaN   \n",
       "yearbuilt                                        NaN   \n",
       "structure_value                               109740   \n",
       "taxvaluedollarcnt                             168949   \n",
       "assessmentyear                                  2016   \n",
       "land_value                                     59209   \n",
       "taxamount                                     2464.6   \n",
       "censustractandblock                      6.11101e+13   \n",
       "logerror                                  -0.0613854   \n",
       "transactiondate                           2017-08-25   \n",
       "heating_system                                   NaN   \n",
       "propertylandusedesc        Single Family Residential   \n",
       "county                                       Ventura   \n",
       "\n",
       "                                               77541  \\\n",
       "parcelid                                    17300860   \n",
       "id                                           1224099   \n",
       "bathrooms                                          3   \n",
       "bedrooms                                           4   \n",
       "property_quality                                 NaN   \n",
       "calculatedbathnbr                                  3   \n",
       "sqft                                            2560   \n",
       "finishedsquarefeet12                            2560   \n",
       "fips                                            6111   \n",
       "fullbathcnt                                        3   \n",
       "heatingorsystemtypeid                            NaN   \n",
       "latitude                                  3.4201e+07   \n",
       "longitude                               -1.18679e+08   \n",
       "lot_sqft                                       21802   \n",
       "propertycountylandusecode                       1110   \n",
       "propertylandusetypeid                            261   \n",
       "propertyzoningdesc                               NaN   \n",
       "rawcensustractandblock                   6.11101e+07   \n",
       "regionidcity                                   42091   \n",
       "regionidcounty                                  2061   \n",
       "zip_code                                       96342   \n",
       "roomcnt                                            8   \n",
       "unitcnt                                          NaN   \n",
       "yearbuilt                                       1976   \n",
       "structure_value                               286394   \n",
       "taxvaluedollarcnt                             795548   \n",
       "assessmentyear                                  2016   \n",
       "land_value                                    509154   \n",
       "taxamount                                    9300.28   \n",
       "censustractandblock                      6.11101e+13   \n",
       "logerror                                   0.0566674   \n",
       "transactiondate                           2017-06-14   \n",
       "heating_system                                   NaN   \n",
       "propertylandusedesc        Single Family Residential   \n",
       "county                                       Ventura   \n",
       "\n",
       "                                               77542  \\\n",
       "parcelid                                    17300863   \n",
       "id                                           1821141   \n",
       "bathrooms                                        5.5   \n",
       "bedrooms                                           5   \n",
       "property_quality                                 NaN   \n",
       "calculatedbathnbr                                5.5   \n",
       "sqft                                            4983   \n",
       "finishedsquarefeet12                            4983   \n",
       "fips                                            6111   \n",
       "fullbathcnt                                        5   \n",
       "heatingorsystemtypeid                            NaN   \n",
       "latitude                                  3.4199e+07   \n",
       "longitude                               -1.18676e+08   \n",
       "lot_sqft                                       32226   \n",
       "propertycountylandusecode                       1110   \n",
       "propertylandusetypeid                            261   \n",
       "propertyzoningdesc                               NaN   \n",
       "rawcensustractandblock                   6.11101e+07   \n",
       "regionidcity                                   42091   \n",
       "regionidcounty                                  2061   \n",
       "zip_code                                       96342   \n",
       "roomcnt                                            9   \n",
       "unitcnt                                          NaN   \n",
       "yearbuilt                                       2001   \n",
       "structure_value                               865487   \n",
       "taxvaluedollarcnt                        1.53839e+06   \n",
       "assessmentyear                                  2016   \n",
       "land_value                                    672902   \n",
       "taxamount                                    17404.5   \n",
       "censustractandblock                      6.11101e+13   \n",
       "logerror                                   0.0604307   \n",
       "transactiondate                           2017-06-16   \n",
       "heating_system                                   NaN   \n",
       "propertylandusedesc        Single Family Residential   \n",
       "county                                       Ventura   \n",
       "\n",
       "                                               77543        77544  \\\n",
       "parcelid                                    79640490     93577187   \n",
       "id                                           2133032      1699893   \n",
       "bathrooms                                        2.5            2   \n",
       "bedrooms                                           3            2   \n",
       "property_quality                                 NaN          NaN   \n",
       "calculatedbathnbr                                2.5            2   \n",
       "sqft                                            1688          900   \n",
       "finishedsquarefeet12                            1688          900   \n",
       "fips                                            6059         6111   \n",
       "fullbathcnt                                        2            2   \n",
       "heatingorsystemtypeid                            NaN          NaN   \n",
       "latitude                                 3.38768e+07  3.42124e+07   \n",
       "longitude                               -1.17988e+08 -1.19027e+08   \n",
       "lot_sqft                                        3474          NaN   \n",
       "propertycountylandusecode                          1         1129   \n",
       "propertylandusetypeid                            261          266   \n",
       "propertyzoningdesc                               NaN          NaN   \n",
       "rawcensustractandblock                   6.05911e+07  6.11101e+07   \n",
       "regionidcity                                     NaN        51239   \n",
       "regionidcounty                                  1286         2061   \n",
       "zip_code                                         NaN        97091   \n",
       "roomcnt                                            0            4   \n",
       "unitcnt                                          NaN          NaN   \n",
       "yearbuilt                                       2002         2006   \n",
       "structure_value                               173471       108211   \n",
       "taxvaluedollarcnt                             314659       309621   \n",
       "assessmentyear                                  2016         2016   \n",
       "land_value                                    141188       201410   \n",
       "taxamount                                    3785.04      3280.22   \n",
       "censustractandblock                              NaN  6.11101e+13   \n",
       "logerror                                    0.551633      0.01873   \n",
       "transactiondate                           2017-07-28   2017-03-15   \n",
       "heating_system                                   NaN          NaN   \n",
       "propertylandusedesc        Single Family Residential  Condominium   \n",
       "county                                        Orange      Ventura   \n",
       "\n",
       "                                               77545  \\\n",
       "parcelid                                   162960516   \n",
       "id                                           1686026   \n",
       "bathrooms                                        2.5   \n",
       "bedrooms                                           3   \n",
       "property_quality                                 NaN   \n",
       "calculatedbathnbr                                2.5   \n",
       "sqft                                            1449   \n",
       "finishedsquarefeet12                            1449   \n",
       "fips                                            6111   \n",
       "fullbathcnt                                        2   \n",
       "heatingorsystemtypeid                            NaN   \n",
       "latitude                                 3.42739e+07   \n",
       "longitude                               -1.19165e+08   \n",
       "lot_sqft                                        6926   \n",
       "propertycountylandusecode                       1111   \n",
       "propertylandusetypeid                            261   \n",
       "propertyzoningdesc                               NaN   \n",
       "rawcensustractandblock                     6.111e+07   \n",
       "regionidcity                                   34543   \n",
       "regionidcounty                                  2061   \n",
       "zip_code                                       97084   \n",
       "roomcnt                                            5   \n",
       "unitcnt                                          NaN   \n",
       "yearbuilt                                       1986   \n",
       "structure_value                               288913   \n",
       "taxvaluedollarcnt                             481521   \n",
       "assessmentyear                                  2016   \n",
       "land_value                                    192608   \n",
       "taxamount                                     5063.3   \n",
       "censustractandblock                        6.111e+13   \n",
       "logerror                                   0.0157972   \n",
       "transactiondate                           2017-05-08   \n",
       "heating_system                                   NaN   \n",
       "propertylandusedesc        Single Family Residential   \n",
       "county                                       Ventura   \n",
       "\n",
       "                                               77546  \\\n",
       "parcelid                                   162960529   \n",
       "id                                           2415168   \n",
       "bathrooms                                          4   \n",
       "bedrooms                                           4   \n",
       "property_quality                                 NaN   \n",
       "calculatedbathnbr                                  4   \n",
       "sqft                                            2459   \n",
       "finishedsquarefeet12                            2459   \n",
       "fips                                            6111   \n",
       "fullbathcnt                                        4   \n",
       "heatingorsystemtypeid                            NaN   \n",
       "latitude                                 3.42456e+07   \n",
       "longitude                                -1.1917e+08   \n",
       "lot_sqft                                        5400   \n",
       "propertycountylandusecode                       1111   \n",
       "propertylandusetypeid                            261   \n",
       "propertyzoningdesc                               NaN   \n",
       "rawcensustractandblock                   6.11101e+07   \n",
       "regionidcity                                   13150   \n",
       "regionidcounty                                  2061   \n",
       "zip_code                                       97107   \n",
       "roomcnt                                            7   \n",
       "unitcnt                                          NaN   \n",
       "yearbuilt                                       2007   \n",
       "structure_value                               169000   \n",
       "taxvaluedollarcnt                             479000   \n",
       "assessmentyear                                  2016   \n",
       "land_value                                    310000   \n",
       "taxamount                                    12285.9   \n",
       "censustractandblock                      6.11101e+13   \n",
       "logerror                                  0.00711666   \n",
       "transactiondate                           2017-05-26   \n",
       "heating_system                                   NaN   \n",
       "propertylandusedesc        Single Family Residential   \n",
       "county                                       Ventura   \n",
       "\n",
       "                                               77547  \\\n",
       "parcelid                                   162960596   \n",
       "id                                           1134005   \n",
       "bathrooms                                          2   \n",
       "bedrooms                                           4   \n",
       "property_quality                                 NaN   \n",
       "calculatedbathnbr                                  2   \n",
       "sqft                                            1379   \n",
       "finishedsquarefeet12                            1379   \n",
       "fips                                            6111   \n",
       "fullbathcnt                                        2   \n",
       "heatingorsystemtypeid                            NaN   \n",
       "latitude                                 3.42196e+07   \n",
       "longitude                               -1.19043e+08   \n",
       "lot_sqft                                        7343   \n",
       "propertycountylandusecode                       1111   \n",
       "propertylandusetypeid                            261   \n",
       "propertyzoningdesc                               NaN   \n",
       "rawcensustractandblock                   6.11101e+07   \n",
       "regionidcity                                   51239   \n",
       "regionidcounty                                  2061   \n",
       "zip_code                                       97089   \n",
       "roomcnt                                            7   \n",
       "unitcnt                                          NaN   \n",
       "yearbuilt                                       1960   \n",
       "structure_value                               224567   \n",
       "taxvaluedollarcnt                             449134   \n",
       "assessmentyear                                  2016   \n",
       "land_value                                    224567   \n",
       "taxamount                                    4787.16   \n",
       "censustractandblock                      6.11101e+13   \n",
       "logerror                                   0.0320176   \n",
       "transactiondate                           2017-07-18   \n",
       "heating_system                                   NaN   \n",
       "propertylandusedesc        Single Family Residential   \n",
       "county                                       Ventura   \n",
       "\n",
       "                                               77548  \n",
       "parcelid                                   162960814  \n",
       "id                                           1671696  \n",
       "bathrooms                                          3  \n",
       "bedrooms                                           5  \n",
       "property_quality                                 NaN  \n",
       "calculatedbathnbr                                  3  \n",
       "sqft                                            2754  \n",
       "finishedsquarefeet12                            2754  \n",
       "fips                                            6111  \n",
       "fullbathcnt                                        3  \n",
       "heatingorsystemtypeid                            NaN  \n",
       "latitude                                 3.42582e+07  \n",
       "longitude                               -1.18731e+08  \n",
       "lot_sqft                                        5742  \n",
       "propertycountylandusecode                       1111  \n",
       "propertylandusetypeid                            261  \n",
       "propertyzoningdesc                               NaN  \n",
       "rawcensustractandblock                   6.11101e+07  \n",
       "regionidcity                                   27110  \n",
       "regionidcounty                                  2061  \n",
       "zip_code                                       97118  \n",
       "roomcnt                                            9  \n",
       "unitcnt                                          NaN  \n",
       "yearbuilt                                       2000  \n",
       "structure_value                               292666  \n",
       "taxvaluedollarcnt                             487774  \n",
       "assessmentyear                                  2016  \n",
       "land_value                                    195108  \n",
       "taxamount                                     5602.9  \n",
       "censustractandblock                      6.11101e+13  \n",
       "logerror                                 -0.00699462  \n",
       "transactiondate                           2017-05-19  \n",
       "heating_system                                   NaN  \n",
       "propertylandusedesc        Single Family Residential  \n",
       "county                                       Ventura  \n",
       "\n",
       "[35 rows x 26570 columns]"
      ]
     },
     "execution_count": 15,
     "metadata": {},
     "output_type": "execute_result"
    }
   ],
   "source": [
    "df[df['unitcnt'].isnull()].T"
   ]
  },
  {
   "cell_type": "code",
   "execution_count": 5,
   "metadata": {},
   "outputs": [
    {
     "data": {
      "text/plain": [
       "3101.0    50694\n",
       "1286.0    20630\n",
       "2061.0     6250\n",
       "Name: regionidcounty, dtype: int64"
      ]
     },
     "execution_count": 5,
     "metadata": {},
     "output_type": "execute_result"
    }
   ],
   "source": [
    "df['regionidcounty'].value_counts()"
   ]
  },
  {
   "cell_type": "code",
   "execution_count": 17,
   "metadata": {},
   "outputs": [
    {
     "data": {
      "text/html": [
       "<div>\n",
       "<style scoped>\n",
       "    .dataframe tbody tr th:only-of-type {\n",
       "        vertical-align: middle;\n",
       "    }\n",
       "\n",
       "    .dataframe tbody tr th {\n",
       "        vertical-align: top;\n",
       "    }\n",
       "\n",
       "    .dataframe thead th {\n",
       "        text-align: right;\n",
       "    }\n",
       "</style>\n",
       "<table border=\"1\" class=\"dataframe\">\n",
       "  <thead>\n",
       "    <tr style=\"text-align: right;\">\n",
       "      <th></th>\n",
       "      <th>parcelid</th>\n",
       "      <th>bathrooms</th>\n",
       "      <th>bedrooms</th>\n",
       "      <th>property_quality</th>\n",
       "      <th>sqft</th>\n",
       "      <th>fips</th>\n",
       "      <th>latitude</th>\n",
       "      <th>longitude</th>\n",
       "      <th>lot_sqft</th>\n",
       "      <th>rawcensustractandblock</th>\n",
       "      <th>...</th>\n",
       "      <th>unitcnt</th>\n",
       "      <th>yearbuilt</th>\n",
       "      <th>structure_value</th>\n",
       "      <th>taxvaluedollarcnt</th>\n",
       "      <th>assessmentyear</th>\n",
       "      <th>land_value</th>\n",
       "      <th>taxamount</th>\n",
       "      <th>logerror</th>\n",
       "      <th>transactiondate</th>\n",
       "      <th>county</th>\n",
       "    </tr>\n",
       "  </thead>\n",
       "  <tbody>\n",
       "    <tr>\n",
       "      <th>137</th>\n",
       "      <td>10717985</td>\n",
       "      <td>3.0</td>\n",
       "      <td>4.0</td>\n",
       "      <td>8.0</td>\n",
       "      <td>2478.0</td>\n",
       "      <td>6037.0</td>\n",
       "      <td>34209133.0</td>\n",
       "      <td>-118657791.0</td>\n",
       "      <td>9417.0</td>\n",
       "      <td>6.037134e+07</td>\n",
       "      <td>...</td>\n",
       "      <td>NaN</td>\n",
       "      <td>1995.0</td>\n",
       "      <td>301711.0</td>\n",
       "      <td>464491.0</td>\n",
       "      <td>2016.0</td>\n",
       "      <td>162780.0</td>\n",
       "      <td>5801.39</td>\n",
       "      <td>0.011914</td>\n",
       "      <td>2017-06-30</td>\n",
       "      <td>Los_Angeles</td>\n",
       "    </tr>\n",
       "    <tr>\n",
       "      <th>2168</th>\n",
       "      <td>10794853</td>\n",
       "      <td>2.0</td>\n",
       "      <td>2.0</td>\n",
       "      <td>7.0</td>\n",
       "      <td>1050.0</td>\n",
       "      <td>6037.0</td>\n",
       "      <td>34183500.0</td>\n",
       "      <td>-118596000.0</td>\n",
       "      <td>134581.0</td>\n",
       "      <td>6.037135e+07</td>\n",
       "      <td>...</td>\n",
       "      <td>NaN</td>\n",
       "      <td>2010.0</td>\n",
       "      <td>242340.0</td>\n",
       "      <td>446709.0</td>\n",
       "      <td>2016.0</td>\n",
       "      <td>204369.0</td>\n",
       "      <td>5409.89</td>\n",
       "      <td>0.020882</td>\n",
       "      <td>2017-08-31</td>\n",
       "      <td>Los_Angeles</td>\n",
       "    </tr>\n",
       "    <tr>\n",
       "      <th>2169</th>\n",
       "      <td>10794855</td>\n",
       "      <td>2.0</td>\n",
       "      <td>3.0</td>\n",
       "      <td>7.0</td>\n",
       "      <td>1280.0</td>\n",
       "      <td>6037.0</td>\n",
       "      <td>34183500.0</td>\n",
       "      <td>-118596000.0</td>\n",
       "      <td>134581.0</td>\n",
       "      <td>6.037135e+07</td>\n",
       "      <td>...</td>\n",
       "      <td>NaN</td>\n",
       "      <td>2010.0</td>\n",
       "      <td>326268.0</td>\n",
       "      <td>466324.0</td>\n",
       "      <td>2016.0</td>\n",
       "      <td>140056.0</td>\n",
       "      <td>5653.42</td>\n",
       "      <td>-0.026507</td>\n",
       "      <td>2017-04-03</td>\n",
       "      <td>Los_Angeles</td>\n",
       "    </tr>\n",
       "    <tr>\n",
       "      <th>2170</th>\n",
       "      <td>10794876</td>\n",
       "      <td>2.0</td>\n",
       "      <td>2.0</td>\n",
       "      <td>7.0</td>\n",
       "      <td>1050.0</td>\n",
       "      <td>6037.0</td>\n",
       "      <td>34183500.0</td>\n",
       "      <td>-118596000.0</td>\n",
       "      <td>134581.0</td>\n",
       "      <td>6.037135e+07</td>\n",
       "      <td>...</td>\n",
       "      <td>NaN</td>\n",
       "      <td>2010.0</td>\n",
       "      <td>242340.0</td>\n",
       "      <td>448740.0</td>\n",
       "      <td>2016.0</td>\n",
       "      <td>206400.0</td>\n",
       "      <td>5434.10</td>\n",
       "      <td>0.048805</td>\n",
       "      <td>2017-03-10</td>\n",
       "      <td>Los_Angeles</td>\n",
       "    </tr>\n",
       "    <tr>\n",
       "      <th>2171</th>\n",
       "      <td>10794889</td>\n",
       "      <td>1.0</td>\n",
       "      <td>1.0</td>\n",
       "      <td>7.0</td>\n",
       "      <td>640.0</td>\n",
       "      <td>6037.0</td>\n",
       "      <td>34183500.0</td>\n",
       "      <td>-118596000.0</td>\n",
       "      <td>134581.0</td>\n",
       "      <td>6.037135e+07</td>\n",
       "      <td>...</td>\n",
       "      <td>NaN</td>\n",
       "      <td>2010.0</td>\n",
       "      <td>177272.0</td>\n",
       "      <td>253245.0</td>\n",
       "      <td>2016.0</td>\n",
       "      <td>75973.0</td>\n",
       "      <td>3093.68</td>\n",
       "      <td>-0.002248</td>\n",
       "      <td>2017-08-22</td>\n",
       "      <td>Los_Angeles</td>\n",
       "    </tr>\n",
       "    <tr>\n",
       "      <th>...</th>\n",
       "      <td>...</td>\n",
       "      <td>...</td>\n",
       "      <td>...</td>\n",
       "      <td>...</td>\n",
       "      <td>...</td>\n",
       "      <td>...</td>\n",
       "      <td>...</td>\n",
       "      <td>...</td>\n",
       "      <td>...</td>\n",
       "      <td>...</td>\n",
       "      <td>...</td>\n",
       "      <td>...</td>\n",
       "      <td>...</td>\n",
       "      <td>...</td>\n",
       "      <td>...</td>\n",
       "      <td>...</td>\n",
       "      <td>...</td>\n",
       "      <td>...</td>\n",
       "      <td>...</td>\n",
       "      <td>...</td>\n",
       "      <td>...</td>\n",
       "    </tr>\n",
       "    <tr>\n",
       "      <th>77544</th>\n",
       "      <td>93577187</td>\n",
       "      <td>2.0</td>\n",
       "      <td>2.0</td>\n",
       "      <td>NaN</td>\n",
       "      <td>900.0</td>\n",
       "      <td>6111.0</td>\n",
       "      <td>34212400.0</td>\n",
       "      <td>-119027000.0</td>\n",
       "      <td>NaN</td>\n",
       "      <td>6.111006e+07</td>\n",
       "      <td>...</td>\n",
       "      <td>NaN</td>\n",
       "      <td>2006.0</td>\n",
       "      <td>108211.0</td>\n",
       "      <td>309621.0</td>\n",
       "      <td>2016.0</td>\n",
       "      <td>201410.0</td>\n",
       "      <td>3280.22</td>\n",
       "      <td>0.018730</td>\n",
       "      <td>2017-03-15</td>\n",
       "      <td>Ventura</td>\n",
       "    </tr>\n",
       "    <tr>\n",
       "      <th>77545</th>\n",
       "      <td>162960516</td>\n",
       "      <td>2.5</td>\n",
       "      <td>3.0</td>\n",
       "      <td>NaN</td>\n",
       "      <td>1449.0</td>\n",
       "      <td>6111.0</td>\n",
       "      <td>34273914.0</td>\n",
       "      <td>-119164501.0</td>\n",
       "      <td>6926.0</td>\n",
       "      <td>6.111001e+07</td>\n",
       "      <td>...</td>\n",
       "      <td>NaN</td>\n",
       "      <td>1986.0</td>\n",
       "      <td>288913.0</td>\n",
       "      <td>481521.0</td>\n",
       "      <td>2016.0</td>\n",
       "      <td>192608.0</td>\n",
       "      <td>5063.30</td>\n",
       "      <td>0.015797</td>\n",
       "      <td>2017-05-08</td>\n",
       "      <td>Ventura</td>\n",
       "    </tr>\n",
       "    <tr>\n",
       "      <th>77546</th>\n",
       "      <td>162960529</td>\n",
       "      <td>4.0</td>\n",
       "      <td>4.0</td>\n",
       "      <td>NaN</td>\n",
       "      <td>2459.0</td>\n",
       "      <td>6111.0</td>\n",
       "      <td>34245590.0</td>\n",
       "      <td>-119169692.0</td>\n",
       "      <td>5400.0</td>\n",
       "      <td>6.111005e+07</td>\n",
       "      <td>...</td>\n",
       "      <td>NaN</td>\n",
       "      <td>2007.0</td>\n",
       "      <td>169000.0</td>\n",
       "      <td>479000.0</td>\n",
       "      <td>2016.0</td>\n",
       "      <td>310000.0</td>\n",
       "      <td>12285.88</td>\n",
       "      <td>0.007117</td>\n",
       "      <td>2017-05-26</td>\n",
       "      <td>Ventura</td>\n",
       "    </tr>\n",
       "    <tr>\n",
       "      <th>77547</th>\n",
       "      <td>162960596</td>\n",
       "      <td>2.0</td>\n",
       "      <td>4.0</td>\n",
       "      <td>NaN</td>\n",
       "      <td>1379.0</td>\n",
       "      <td>6111.0</td>\n",
       "      <td>34219587.0</td>\n",
       "      <td>-119042663.0</td>\n",
       "      <td>7343.0</td>\n",
       "      <td>6.111006e+07</td>\n",
       "      <td>...</td>\n",
       "      <td>NaN</td>\n",
       "      <td>1960.0</td>\n",
       "      <td>224567.0</td>\n",
       "      <td>449134.0</td>\n",
       "      <td>2016.0</td>\n",
       "      <td>224567.0</td>\n",
       "      <td>4787.16</td>\n",
       "      <td>0.032018</td>\n",
       "      <td>2017-07-18</td>\n",
       "      <td>Ventura</td>\n",
       "    </tr>\n",
       "    <tr>\n",
       "      <th>77548</th>\n",
       "      <td>162960814</td>\n",
       "      <td>3.0</td>\n",
       "      <td>5.0</td>\n",
       "      <td>NaN</td>\n",
       "      <td>2754.0</td>\n",
       "      <td>6111.0</td>\n",
       "      <td>34258186.0</td>\n",
       "      <td>-118731299.0</td>\n",
       "      <td>5742.0</td>\n",
       "      <td>6.111008e+07</td>\n",
       "      <td>...</td>\n",
       "      <td>NaN</td>\n",
       "      <td>2000.0</td>\n",
       "      <td>292666.0</td>\n",
       "      <td>487774.0</td>\n",
       "      <td>2016.0</td>\n",
       "      <td>195108.0</td>\n",
       "      <td>5602.90</td>\n",
       "      <td>-0.006995</td>\n",
       "      <td>2017-05-19</td>\n",
       "      <td>Ventura</td>\n",
       "    </tr>\n",
       "  </tbody>\n",
       "</table>\n",
       "<p>26570 rows × 24 columns</p>\n",
       "</div>"
      ],
      "text/plain": [
       "        parcelid  bathrooms  bedrooms  property_quality    sqft    fips  \\\n",
       "137     10717985        3.0       4.0               8.0  2478.0  6037.0   \n",
       "2168    10794853        2.0       2.0               7.0  1050.0  6037.0   \n",
       "2169    10794855        2.0       3.0               7.0  1280.0  6037.0   \n",
       "2170    10794876        2.0       2.0               7.0  1050.0  6037.0   \n",
       "2171    10794889        1.0       1.0               7.0   640.0  6037.0   \n",
       "...          ...        ...       ...               ...     ...     ...   \n",
       "77544   93577187        2.0       2.0               NaN   900.0  6111.0   \n",
       "77545  162960516        2.5       3.0               NaN  1449.0  6111.0   \n",
       "77546  162960529        4.0       4.0               NaN  2459.0  6111.0   \n",
       "77547  162960596        2.0       4.0               NaN  1379.0  6111.0   \n",
       "77548  162960814        3.0       5.0               NaN  2754.0  6111.0   \n",
       "\n",
       "         latitude    longitude  lot_sqft  rawcensustractandblock  ...  \\\n",
       "137    34209133.0 -118657791.0    9417.0            6.037134e+07  ...   \n",
       "2168   34183500.0 -118596000.0  134581.0            6.037135e+07  ...   \n",
       "2169   34183500.0 -118596000.0  134581.0            6.037135e+07  ...   \n",
       "2170   34183500.0 -118596000.0  134581.0            6.037135e+07  ...   \n",
       "2171   34183500.0 -118596000.0  134581.0            6.037135e+07  ...   \n",
       "...           ...          ...       ...                     ...  ...   \n",
       "77544  34212400.0 -119027000.0       NaN            6.111006e+07  ...   \n",
       "77545  34273914.0 -119164501.0    6926.0            6.111001e+07  ...   \n",
       "77546  34245590.0 -119169692.0    5400.0            6.111005e+07  ...   \n",
       "77547  34219587.0 -119042663.0    7343.0            6.111006e+07  ...   \n",
       "77548  34258186.0 -118731299.0    5742.0            6.111008e+07  ...   \n",
       "\n",
       "       unitcnt  yearbuilt  structure_value  taxvaluedollarcnt  assessmentyear  \\\n",
       "137        NaN     1995.0         301711.0           464491.0          2016.0   \n",
       "2168       NaN     2010.0         242340.0           446709.0          2016.0   \n",
       "2169       NaN     2010.0         326268.0           466324.0          2016.0   \n",
       "2170       NaN     2010.0         242340.0           448740.0          2016.0   \n",
       "2171       NaN     2010.0         177272.0           253245.0          2016.0   \n",
       "...        ...        ...              ...                ...             ...   \n",
       "77544      NaN     2006.0         108211.0           309621.0          2016.0   \n",
       "77545      NaN     1986.0         288913.0           481521.0          2016.0   \n",
       "77546      NaN     2007.0         169000.0           479000.0          2016.0   \n",
       "77547      NaN     1960.0         224567.0           449134.0          2016.0   \n",
       "77548      NaN     2000.0         292666.0           487774.0          2016.0   \n",
       "\n",
       "       land_value  taxamount  logerror  transactiondate       county  \n",
       "137      162780.0    5801.39  0.011914       2017-06-30  Los_Angeles  \n",
       "2168     204369.0    5409.89  0.020882       2017-08-31  Los_Angeles  \n",
       "2169     140056.0    5653.42 -0.026507       2017-04-03  Los_Angeles  \n",
       "2170     206400.0    5434.10  0.048805       2017-03-10  Los_Angeles  \n",
       "2171      75973.0    3093.68 -0.002248       2017-08-22  Los_Angeles  \n",
       "...           ...        ...       ...              ...          ...  \n",
       "77544    201410.0    3280.22  0.018730       2017-03-15      Ventura  \n",
       "77545    192608.0    5063.30  0.015797       2017-05-08      Ventura  \n",
       "77546    310000.0   12285.88  0.007117       2017-05-26      Ventura  \n",
       "77547    224567.0    4787.16  0.032018       2017-07-18      Ventura  \n",
       "77548    195108.0    5602.90 -0.006995       2017-05-19      Ventura  \n",
       "\n",
       "[26570 rows x 24 columns]"
      ]
     },
     "execution_count": 17,
     "metadata": {},
     "output_type": "execute_result"
    }
   ],
   "source": [
    "df[df['unitcnt'].isnull()]"
   ]
  },
  {
   "cell_type": "code",
   "execution_count": 16,
   "metadata": {},
   "outputs": [
    {
     "data": {
      "text/plain": [
       "261.0    18474\n",
       "266.0     7714\n",
       "265.0      335\n",
       "275.0       35\n",
       "263.0        7\n",
       "269.0        5\n",
       "Name: propertylandusetypeid, dtype: int64"
      ]
     },
     "execution_count": 16,
     "metadata": {},
     "output_type": "execute_result"
    }
   ],
   "source": [
    "df[df['unitcnt'].isnull()].propertylandusetypeid.value_counts()\n",
    "\n",
    "# 261 Single Family Residential\n",
    "# 266 Condominium\n",
    "# 265 Cluster Home\n",
    "# 275 Manufactured, Modular, Prefabricated Homes\n",
    "# 263 Mobile Home\n",
    "# 269 Planned Unit Development\n",
    "\n",
    "# let's change to 1!"
   ]
  },
  {
   "cell_type": "code",
   "execution_count": 16,
   "metadata": {},
   "outputs": [],
   "source": [
    "df.unitcnt.fillna(1, inplace = True)"
   ]
  },
  {
   "cell_type": "code",
   "execution_count": 17,
   "metadata": {},
   "outputs": [
    {
     "data": {
      "text/plain": [
       "(73705, 24)"
      ]
     },
     "execution_count": 17,
     "metadata": {},
     "output_type": "execute_result"
    }
   ],
   "source": [
    "df.shape"
   ]
  },
  {
   "cell_type": "code",
   "execution_count": 21,
   "metadata": {},
   "outputs": [
    {
     "data": {
      "text/plain": [
       "parcelid                      0\n",
       "bathrooms                     0\n",
       "bedrooms                      0\n",
       "property_quality          26884\n",
       "sqft                          0\n",
       "fips                          0\n",
       "latitude                      0\n",
       "longitude                     0\n",
       "lot_sqft                   8121\n",
       "rawcensustractandblock        0\n",
       "regionidcity               1437\n",
       "regionidcounty                0\n",
       "zip_code                     43\n",
       "roomcnt                       0\n",
       "unitcnt                       0\n",
       "yearbuilt                    35\n",
       "structure_value              75\n",
       "home_value                    1\n",
       "assessmentyear                0\n",
       "land_value                    1\n",
       "taxamount                     5\n",
       "logerror                      0\n",
       "transactiondate               0\n",
       "county                        0\n",
       "dtype: int64"
      ]
     },
     "execution_count": 21,
     "metadata": {},
     "output_type": "execute_result"
    }
   ],
   "source": [
    "df.isnull().sum()"
   ]
  },
  {
   "cell_type": "code",
   "execution_count": 22,
   "metadata": {},
   "outputs": [
    {
     "data": {
      "text/plain": [
       "NaN     26884\n",
       "8.0     14488\n",
       "6.0     12906\n",
       "4.0      8234\n",
       "7.0      5917\n",
       "9.0      2264\n",
       "5.0      1500\n",
       "11.0      926\n",
       "10.0      308\n",
       "3.0       150\n",
       "12.0      115\n",
       "1.0        10\n",
       "2.0         3\n",
       "Name: property_quality, dtype: int64"
      ]
     },
     "execution_count": 22,
     "metadata": {},
     "output_type": "execute_result"
    }
   ],
   "source": [
    "df.property_quality.value_counts(dropna = False)"
   ]
  },
  {
   "cell_type": "code",
   "execution_count": 23,
   "metadata": {},
   "outputs": [
    {
     "data": {
      "text/plain": [
       "<AxesSubplot:>"
      ]
     },
     "execution_count": 23,
     "metadata": {},
     "output_type": "execute_result"
    },
    {
     "data": {
      "image/png": "[encoded data removed]",
      "text/plain": [
       "<Figure size 432x288 with 1 Axes>"
      ]
     },
     "metadata": {
      "needs_background": "light"
     },
     "output_type": "display_data"
    }
   ],
   "source": [
    "df.property_quality.hist()"
   ]
  },
  {
   "cell_type": "code",
   "execution_count": 23,
   "metadata": {},
   "outputs": [
    {
     "data": {
      "text/plain": [
       "7.0"
      ]
     },
     "execution_count": 23,
     "metadata": {},
     "output_type": "execute_result"
    }
   ],
   "source": [
    "df.property_quality.median()"
   ]
  },
  {
   "cell_type": "code",
   "execution_count": 24,
   "metadata": {},
   "outputs": [
    {
     "data": {
      "text/plain": [
       "6.635548151470494"
      ]
     },
     "execution_count": 24,
     "metadata": {},
     "output_type": "execute_result"
    }
   ],
   "source": [
    "df.property_quality.mean()"
   ]
  },
  {
   "cell_type": "code",
   "execution_count": 18,
   "metadata": {},
   "outputs": [],
   "source": [
    "df.property_quality.fillna(7.0, inplace = True)"
   ]
  },
  {
   "cell_type": "code",
   "execution_count": 19,
   "metadata": {},
   "outputs": [
    {
     "data": {
      "text/plain": [
       "(73705, 24)"
      ]
     },
     "execution_count": 19,
     "metadata": {},
     "output_type": "execute_result"
    }
   ],
   "source": [
    "df.shape"
   ]
  },
  {
   "cell_type": "code",
   "execution_count": 27,
   "metadata": {},
   "outputs": [
    {
     "data": {
      "text/plain": [
       "parcelid                     0\n",
       "bathrooms                    0\n",
       "bedrooms                     0\n",
       "property_quality             0\n",
       "sqft                         0\n",
       "fips                         0\n",
       "latitude                     0\n",
       "longitude                    0\n",
       "lot_sqft                  8121\n",
       "rawcensustractandblock       0\n",
       "regionidcity              1437\n",
       "regionidcounty               0\n",
       "zip_code                    43\n",
       "roomcnt                      0\n",
       "unitcnt                      0\n",
       "yearbuilt                   35\n",
       "structure_value             75\n",
       "home_value                   1\n",
       "assessmentyear               0\n",
       "land_value                   1\n",
       "taxamount                    5\n",
       "logerror                     0\n",
       "transactiondate              0\n",
       "county                       0\n",
       "dtype: int64"
      ]
     },
     "execution_count": 27,
     "metadata": {},
     "output_type": "execute_result"
    }
   ],
   "source": [
    "df.isnull().sum()"
   ]
  },
  {
   "cell_type": "code",
   "execution_count": 35,
   "metadata": {},
   "outputs": [
    {
     "data": {
      "text/plain": [
       "(0.0, 40000.0)"
      ]
     },
     "execution_count": 35,
     "metadata": {},
     "output_type": "execute_result"
    },
    {
     "data": {
      "image/png": "[encoded data removed]",
      "text/plain": [
       "<Figure size 432x288 with 1 Axes>"
      ]
     },
     "metadata": {
      "needs_background": "light"
     },
     "output_type": "display_data"
    }
   ],
   "source": [
    "df.lot_sqft.hist(bins=2000)\n",
    "plt.xlim(0, 40000)"
   ]
  },
  {
   "cell_type": "code",
   "execution_count": 28,
   "metadata": {},
   "outputs": [
    {
     "data": {
      "text/plain": [
       "7265.0"
      ]
     },
     "execution_count": 28,
     "metadata": {},
     "output_type": "execute_result"
    }
   ],
   "source": [
    "df.lot_sqft.median()"
   ]
  },
  {
   "cell_type": "code",
   "execution_count": 20,
   "metadata": {},
   "outputs": [],
   "source": [
    "df.lot_sqft.fillna(7265, inplace = True)"
   ]
  },
  {
   "cell_type": "code",
   "execution_count": 21,
   "metadata": {},
   "outputs": [
    {
     "data": {
      "text/plain": [
       "(73705, 24)"
      ]
     },
     "execution_count": 21,
     "metadata": {},
     "output_type": "execute_result"
    }
   ],
   "source": [
    "df.shape"
   ]
  },
  {
   "cell_type": "code",
   "execution_count": 31,
   "metadata": {},
   "outputs": [
    {
     "data": {
      "text/plain": [
       "parcelid                     0\n",
       "bathrooms                    0\n",
       "bedrooms                     0\n",
       "property_quality             0\n",
       "sqft                         0\n",
       "fips                         0\n",
       "latitude                     0\n",
       "longitude                    0\n",
       "lot_sqft                     0\n",
       "rawcensustractandblock       0\n",
       "regionidcity              1437\n",
       "regionidcounty               0\n",
       "zip_code                    43\n",
       "roomcnt                      0\n",
       "unitcnt                      0\n",
       "yearbuilt                   35\n",
       "structure_value             75\n",
       "home_value                   1\n",
       "assessmentyear               0\n",
       "land_value                   1\n",
       "taxamount                    5\n",
       "logerror                     0\n",
       "transactiondate              0\n",
       "county                       0\n",
       "dtype: int64"
      ]
     },
     "execution_count": 31,
     "metadata": {},
     "output_type": "execute_result"
    }
   ],
   "source": [
    "df.isnull().sum()"
   ]
  },
  {
   "cell_type": "code",
   "execution_count": 42,
   "metadata": {},
   "outputs": [
    {
     "data": {
      "text/plain": [
       "1597"
      ]
     },
     "execution_count": 42,
     "metadata": {},
     "output_type": "execute_result"
    }
   ],
   "source": [
    "(df.isnull().sum()).sum()"
   ]
  },
  {
   "cell_type": "code",
   "execution_count": 47,
   "metadata": {},
   "outputs": [
    {
     "data": {
      "text/plain": [
       "12447.0     16345\n",
       "46298.0      2306\n",
       "54311.0      1881\n",
       "5534.0       1872\n",
       "52650.0      1664\n",
       "            ...  \n",
       "118880.0        5\n",
       "10815.0         4\n",
       "13311.0         4\n",
       "21395.0         1\n",
       "36078.0         1\n",
       "Name: regionidcity, Length: 175, dtype: int64"
      ]
     },
     "execution_count": 47,
     "metadata": {},
     "output_type": "execute_result"
    }
   ],
   "source": [
    "df.regionidcity.value_counts()"
   ]
  },
  {
   "cell_type": "code",
   "execution_count": 48,
   "metadata": {},
   "outputs": [
    {
     "data": {
      "text/plain": [
       "72268"
      ]
     },
     "execution_count": 48,
     "metadata": {},
     "output_type": "execute_result"
    }
   ],
   "source": [
    "(df.regionidcity.value_counts()).sum()"
   ]
  },
  {
   "cell_type": "code",
   "execution_count": 49,
   "metadata": {},
   "outputs": [
    {
     "data": {
      "text/plain": [
       "211.0"
      ]
     },
     "execution_count": 49,
     "metadata": {},
     "output_type": "execute_result"
    }
   ],
   "source": [
    "(df.regionidcity.value_counts()).median()"
   ]
  },
  {
   "cell_type": "code",
   "execution_count": 22,
   "metadata": {},
   "outputs": [],
   "source": [
    "df = df.dropna()"
   ]
  },
  {
   "cell_type": "code",
   "execution_count": 23,
   "metadata": {},
   "outputs": [
    {
     "data": {
      "text/plain": [
       "(72153, 24)"
      ]
     },
     "execution_count": 23,
     "metadata": {},
     "output_type": "execute_result"
    }
   ],
   "source": [
    "df.shape"
   ]
  },
  {
   "cell_type": "markdown",
   "metadata": {},
   "source": [
    "## Outliers"
   ]
  },
  {
   "cell_type": "code",
   "execution_count": 34,
   "metadata": {},
   "outputs": [
    {
     "data": {
      "text/plain": [
       "<AxesSubplot:xlabel='home_value'>"
      ]
     },
     "execution_count": 34,
     "metadata": {},
     "output_type": "execute_result"
    },
    {
     "data": {
      "image/png": "[encoded data removed]",
      "text/plain": [
       "<Figure size 432x288 with 1 Axes>"
      ]
     },
     "metadata": {
      "needs_background": "light"
     },
     "output_type": "display_data"
    }
   ],
   "source": [
    "sns.boxplot(x=\"home_value\", data=df)"
   ]
  },
  {
   "cell_type": "code",
   "execution_count": 28,
   "metadata": {},
   "outputs": [
    {
     "data": {
      "text/plain": [
       "<AxesSubplot:>"
      ]
     },
     "execution_count": 28,
     "metadata": {},
     "output_type": "execute_result"
    },
    {
     "data": {
      "image/png": "[encoded data removed]",
      "text/plain": [
       "<Figure size 432x288 with 1 Axes>"
      ]
     },
     "metadata": {
      "needs_background": "light"
     },
     "output_type": "display_data"
    }
   ],
   "source": [
    "df.home_value.hist()"
   ]
  },
  {
   "cell_type": "code",
   "execution_count": 29,
   "metadata": {},
   "outputs": [
    {
     "data": {
      "text/plain": [
       "count    7.215300e+04\n",
       "mean     4.868183e+05\n",
       "std      6.254859e+05\n",
       "min      3.254000e+03\n",
       "25%      2.058180e+05\n",
       "50%      3.568600e+05\n",
       "75%      5.657670e+05\n",
       "max      2.538125e+07\n",
       "Name: home_value, dtype: float64"
      ]
     },
     "execution_count": 29,
     "metadata": {},
     "output_type": "execute_result"
    }
   ],
   "source": [
    "df.home_value.describe()"
   ]
  },
  {
   "cell_type": "code",
   "execution_count": 33,
   "metadata": {},
   "outputs": [
    {
     "data": {
      "text/plain": [
       "31"
      ]
     },
     "execution_count": 33,
     "metadata": {},
     "output_type": "execute_result"
    }
   ],
   "source": [
    "#(df.home_value > 10_000_000).sum()"
   ]
  },
  {
   "cell_type": "code",
   "execution_count": 32,
   "metadata": {},
   "outputs": [
    {
     "data": {
      "text/plain": [
       "190"
      ]
     },
     "execution_count": 32,
     "metadata": {},
     "output_type": "execute_result"
    }
   ],
   "source": [
    "(df.home_value > 5_000_000).sum()"
   ]
  },
  {
   "cell_type": "code",
   "execution_count": 34,
   "metadata": {},
   "outputs": [
    {
     "data": {
      "text/plain": [
       "4858"
      ]
     },
     "execution_count": 34,
     "metadata": {},
     "output_type": "execute_result"
    }
   ],
   "source": [
    "#(df.home_value > 1_100_000).sum()"
   ]
  },
  {
   "cell_type": "code",
   "execution_count": 35,
   "metadata": {},
   "outputs": [
    {
     "data": {
      "text/plain": [
       "2308"
      ]
     },
     "execution_count": 35,
     "metadata": {},
     "output_type": "execute_result"
    }
   ],
   "source": [
    "#(df.home_value > 1_600_000).sum()"
   ]
  },
  {
   "cell_type": "code",
   "execution_count": 24,
   "metadata": {},
   "outputs": [
    {
     "data": {
      "text/plain": [
       "(1105690.5, -334105.5)"
      ]
     },
     "execution_count": 24,
     "metadata": {},
     "output_type": "execute_result"
    }
   ],
   "source": [
    "#upper_bound, lower_bound = w.outlier(df, \"home_value\", 1.5)\n",
    "#upper_bound, lower_bound"
   ]
  },
  {
   "cell_type": "code",
   "execution_count": 25,
   "metadata": {},
   "outputs": [
    {
     "data": {
      "text/plain": [
       "(1645614.0, -874029.0)"
      ]
     },
     "execution_count": 25,
     "metadata": {},
     "output_type": "execute_result"
    }
   ],
   "source": [
    "#upper_bound1, lower_bound1 = w.outlier(df, \"home_value\", 3)\n",
    "#upper_bound1, lower_bound1"
   ]
  },
  {
   "cell_type": "code",
   "execution_count": 61,
   "metadata": {},
   "outputs": [
    {
     "data": {
      "text/plain": [
       "<AxesSubplot:xlabel='home_value'>"
      ]
     },
     "execution_count": 61,
     "metadata": {},
     "output_type": "execute_result"
    },
    {
     "data": {
      "image/png": "[encoded data removed]",
      "text/plain": [
       "<Figure size 432x288 with 1 Axes>"
      ]
     },
     "metadata": {
      "needs_background": "light"
     },
     "output_type": "display_data"
    }
   ],
   "source": [
    "#OG\n",
    "sns.boxplot(x=\"home_value\", data=df)"
   ]
  },
  {
   "cell_type": "code",
   "execution_count": 60,
   "metadata": {},
   "outputs": [
    {
     "data": {
      "text/plain": [
       "<AxesSubplot:xlabel='home_value'>"
      ]
     },
     "execution_count": 60,
     "metadata": {},
     "output_type": "execute_result"
    },
    {
     "data": {
      "image/png": "[encoded data removed]",
      "text/plain": [
       "<Figure size 432x288 with 1 Axes>"
      ]
     },
     "metadata": {
      "needs_background": "light"
     },
     "output_type": "display_data"
    }
   ],
   "source": [
    "# final cut of outliers\n",
    "sns.boxplot(x=\"home_value\", data=df[df.home_value < 5000000])"
   ]
  },
  {
   "cell_type": "code",
   "execution_count": 26,
   "metadata": {},
   "outputs": [
    {
     "data": {
      "text/plain": [
       "<AxesSubplot:xlabel='home_value'>"
      ]
     },
     "execution_count": 26,
     "metadata": {},
     "output_type": "execute_result"
    },
    {
     "data": {
      "image/png": "[encoded data removed]",
      "text/plain": [
       "<Figure size 432x288 with 1 Axes>"
      ]
     },
     "metadata": {
      "needs_background": "light"
     },
     "output_type": "display_data"
    }
   ],
   "source": [
    "sns.boxplot(x=\"home_value\", data=df[df.home_value < upper_bound])"
   ]
  },
  {
   "cell_type": "code",
   "execution_count": 27,
   "metadata": {},
   "outputs": [
    {
     "data": {
      "text/plain": [
       "<AxesSubplot:xlabel='home_value'>"
      ]
     },
     "execution_count": 27,
     "metadata": {},
     "output_type": "execute_result"
    },
    {
     "data": {
      "image/png": "[encoded data removed]",
      "text/plain": [
       "<Figure size 432x288 with 1 Axes>"
      ]
     },
     "metadata": {
      "needs_background": "light"
     },
     "output_type": "display_data"
    }
   ],
   "source": [
    "sns.boxplot(x=\"home_value\", data=df[df.home_value < upper_bound1])"
   ]
  },
  {
   "cell_type": "code",
   "execution_count": 62,
   "metadata": {},
   "outputs": [
    {
     "data": {
      "text/plain": [
       "<AxesSubplot:xlabel='sqft'>"
      ]
     },
     "execution_count": 62,
     "metadata": {},
     "output_type": "execute_result"
    },
    {
     "data": {
      "image/png": "[encoded data removed]",
      "text/plain": [
       "<Figure size 432x288 with 1 Axes>"
      ]
     },
     "metadata": {
      "needs_background": "light"
     },
     "output_type": "display_data"
    }
   ],
   "source": [
    "sns.boxplot(x=\"sqft\", data=df)"
   ]
  },
  {
   "cell_type": "code",
   "execution_count": 65,
   "metadata": {},
   "outputs": [
    {
     "data": {
      "text/plain": [
       "(3000.0, 22000.0)"
      ]
     },
     "execution_count": 65,
     "metadata": {},
     "output_type": "execute_result"
    },
    {
     "data": {
      "image/png": "[encoded data removed]",
      "text/plain": [
       "<Figure size 432x288 with 1 Axes>"
      ]
     },
     "metadata": {
      "needs_background": "light"
     },
     "output_type": "display_data"
    }
   ],
   "source": [
    "sns.boxplot(x=\"sqft\", data=df)\n",
    "plt.xlim(3000, 22000)"
   ]
  },
  {
   "cell_type": "code",
   "execution_count": 68,
   "metadata": {},
   "outputs": [
    {
     "data": {
      "text/plain": [
       "<AxesSubplot:xlabel='sqft'>"
      ]
     },
     "execution_count": 68,
     "metadata": {},
     "output_type": "execute_result"
    },
    {
     "data": {
      "image/png": "[encoded data removed]",
      "text/plain": [
       "<Figure size 432x288 with 1 Axes>"
      ]
     },
     "metadata": {
      "needs_background": "light"
     },
     "output_type": "display_data"
    }
   ],
   "source": [
    "sns.boxplot(x=\"sqft\", data=df[df.sqft < 12500])"
   ]
  },
  {
   "cell_type": "code",
   "execution_count": 64,
   "metadata": {},
   "outputs": [
    {
     "data": {
      "text/plain": [
       "<AxesSubplot:xlabel='sqft'>"
      ]
     },
     "execution_count": 64,
     "metadata": {},
     "output_type": "execute_result"
    },
    {
     "data": {
      "image/png": "[encoded data removed]",
      "text/plain": [
       "<Figure size 432x288 with 1 Axes>"
      ]
     },
     "metadata": {
      "needs_background": "light"
     },
     "output_type": "display_data"
    }
   ],
   "source": [
    "sns.boxplot(x=\"sqft\", data=df[df.sqft < upper_bound2])"
   ]
  },
  {
   "cell_type": "code",
   "execution_count": 36,
   "metadata": {},
   "outputs": [
    {
     "data": {
      "text/plain": [
       "(3393.5, -162.5)"
      ]
     },
     "execution_count": 36,
     "metadata": {},
     "output_type": "execute_result"
    }
   ],
   "source": [
    "upper_bound2, lower_bound2 = w.outlier(df, \"sqft\", 1.5)\n",
    "upper_bound2, lower_bound2"
   ]
  },
  {
   "cell_type": "code",
   "execution_count": 38,
   "metadata": {},
   "outputs": [
    {
     "data": {
      "text/plain": [
       "(4727.0, -1496.0)"
      ]
     },
     "execution_count": 38,
     "metadata": {},
     "output_type": "execute_result"
    }
   ],
   "source": [
    "upper_bound3, lower_bound3 = w.outlier(df, \"sqft\", 3)\n",
    "upper_bound3, lower_bound3"
   ]
  },
  {
   "cell_type": "code",
   "execution_count": 66,
   "metadata": {},
   "outputs": [
    {
     "data": {
      "text/plain": [
       "<AxesSubplot:xlabel='sqft'>"
      ]
     },
     "execution_count": 66,
     "metadata": {},
     "output_type": "execute_result"
    },
    {
     "data": {
      "image/png": "[encoded data removed]",
      "text/plain": [
       "<Figure size 432x288 with 1 Axes>"
      ]
     },
     "metadata": {
      "needs_background": "light"
     },
     "output_type": "display_data"
    }
   ],
   "source": [
    "sns.boxplot(x=\"sqft\", data=df[df.sqft < upper_bound3])\n"
   ]
  },
  {
   "cell_type": "code",
   "execution_count": 41,
   "metadata": {},
   "outputs": [
    {
     "data": {
      "text/plain": [
       "count    72153.000000\n",
       "mean      1752.089241\n",
       "std        922.803033\n",
       "min        360.000000\n",
       "25%       1171.000000\n",
       "50%       1517.000000\n",
       "75%       2060.000000\n",
       "max      21929.000000\n",
       "Name: sqft, dtype: float64"
      ]
     },
     "execution_count": 41,
     "metadata": {},
     "output_type": "execute_result"
    }
   ],
   "source": [
    "df.sqft.describe()"
   ]
  },
  {
   "cell_type": "code",
   "execution_count": 50,
   "metadata": {},
   "outputs": [
    {
     "data": {
      "text/plain": [
       "2"
      ]
     },
     "execution_count": 50,
     "metadata": {},
     "output_type": "execute_result"
    }
   ],
   "source": [
    "(df.sqft > 20000).sum()"
   ]
  },
  {
   "cell_type": "code",
   "execution_count": 57,
   "metadata": {},
   "outputs": [
    {
     "data": {
      "text/plain": [
       "7"
      ]
     },
     "execution_count": 57,
     "metadata": {},
     "output_type": "execute_result"
    }
   ],
   "source": [
    "(df.sqft > 12500).sum()"
   ]
  },
  {
   "cell_type": "code",
   "execution_count": 58,
   "metadata": {},
   "outputs": [
    {
     "data": {
      "text/plain": [
       "34"
      ]
     },
     "execution_count": 58,
     "metadata": {},
     "output_type": "execute_result"
    }
   ],
   "source": [
    "(df.sqft > 10000).sum()"
   ]
  },
  {
   "cell_type": "code",
   "execution_count": 51,
   "metadata": {},
   "outputs": [
    {
     "data": {
      "text/plain": [
       "129"
      ]
     },
     "execution_count": 51,
     "metadata": {},
     "output_type": "execute_result"
    }
   ],
   "source": [
    "(df.sqft > 7500).sum()"
   ]
  },
  {
   "cell_type": "code",
   "execution_count": 59,
   "metadata": {},
   "outputs": [
    {
     "data": {
      "text/plain": [
       "971"
      ]
     },
     "execution_count": 59,
     "metadata": {},
     "output_type": "execute_result"
    }
   ],
   "source": [
    "# outlier m=3\n",
    "(df.sqft > 4727).sum()"
   ]
  },
  {
   "cell_type": "code",
   "execution_count": 69,
   "metadata": {},
   "outputs": [
    {
     "data": {
      "text/plain": [
       "(72153, 24)"
      ]
     },
     "execution_count": 69,
     "metadata": {},
     "output_type": "execute_result"
    }
   ],
   "source": [
    "df.shape"
   ]
  },
  {
   "cell_type": "code",
   "execution_count": 71,
   "metadata": {},
   "outputs": [],
   "source": [
    "df = df[df.home_value < 5_000_000]"
   ]
  },
  {
   "cell_type": "code",
   "execution_count": 72,
   "metadata": {},
   "outputs": [
    {
     "data": {
      "text/plain": [
       "(71962, 24)"
      ]
     },
     "execution_count": 72,
     "metadata": {},
     "output_type": "execute_result"
    }
   ],
   "source": [
    "df.shape"
   ]
  },
  {
   "cell_type": "code",
   "execution_count": null,
   "metadata": {},
   "outputs": [],
   "source": [
    "df = df[df.calculatedfinishedsquarefeet < 12500]"
   ]
  },
  {
   "cell_type": "code",
   "execution_count": 73,
   "metadata": {},
   "outputs": [
    {
     "data": {
      "text/plain": [
       "(71962, 24)"
      ]
     },
     "execution_count": 73,
     "metadata": {},
     "output_type": "execute_result"
    }
   ],
   "source": [
    "df.shape"
   ]
  },
  {
   "cell_type": "code",
   "execution_count": 74,
   "metadata": {},
   "outputs": [],
   "source": [
    "df['home_age'] = 2021 - df.yearbuilt"
   ]
  },
  {
   "cell_type": "code",
   "execution_count": 75,
   "metadata": {},
   "outputs": [
    {
     "data": {
      "text/html": [
       "<div>\n",
       "<style scoped>\n",
       "    .dataframe tbody tr th:only-of-type {\n",
       "        vertical-align: middle;\n",
       "    }\n",
       "\n",
       "    .dataframe tbody tr th {\n",
       "        vertical-align: top;\n",
       "    }\n",
       "\n",
       "    .dataframe thead th {\n",
       "        text-align: right;\n",
       "    }\n",
       "</style>\n",
       "<table border=\"1\" class=\"dataframe\">\n",
       "  <thead>\n",
       "    <tr style=\"text-align: right;\">\n",
       "      <th></th>\n",
       "      <th>parcelid</th>\n",
       "      <th>bathrooms</th>\n",
       "      <th>bedrooms</th>\n",
       "      <th>property_quality</th>\n",
       "      <th>sqft</th>\n",
       "      <th>fips</th>\n",
       "      <th>latitude</th>\n",
       "      <th>longitude</th>\n",
       "      <th>lot_sqft</th>\n",
       "      <th>rawcensustractandblock</th>\n",
       "      <th>...</th>\n",
       "      <th>yearbuilt</th>\n",
       "      <th>structure_value</th>\n",
       "      <th>home_value</th>\n",
       "      <th>assessmentyear</th>\n",
       "      <th>land_value</th>\n",
       "      <th>taxamount</th>\n",
       "      <th>logerror</th>\n",
       "      <th>transactiondate</th>\n",
       "      <th>county</th>\n",
       "      <th>home_age</th>\n",
       "    </tr>\n",
       "  </thead>\n",
       "  <tbody>\n",
       "    <tr>\n",
       "      <th>0</th>\n",
       "      <td>10711855</td>\n",
       "      <td>2.0</td>\n",
       "      <td>3.0</td>\n",
       "      <td>8.0</td>\n",
       "      <td>2107.0</td>\n",
       "      <td>6037.0</td>\n",
       "      <td>34222559.0</td>\n",
       "      <td>-118617387.0</td>\n",
       "      <td>9158.0</td>\n",
       "      <td>6.037113e+07</td>\n",
       "      <td>...</td>\n",
       "      <td>1972.0</td>\n",
       "      <td>249655.0</td>\n",
       "      <td>624139.0</td>\n",
       "      <td>2016.0</td>\n",
       "      <td>374484.0</td>\n",
       "      <td>7659.36</td>\n",
       "      <td>-0.007357</td>\n",
       "      <td>2017-07-07</td>\n",
       "      <td>Los_Angeles</td>\n",
       "      <td>49.0</td>\n",
       "    </tr>\n",
       "    <tr>\n",
       "      <th>1</th>\n",
       "      <td>10711877</td>\n",
       "      <td>2.0</td>\n",
       "      <td>4.0</td>\n",
       "      <td>8.0</td>\n",
       "      <td>1882.0</td>\n",
       "      <td>6037.0</td>\n",
       "      <td>34220261.0</td>\n",
       "      <td>-118616409.0</td>\n",
       "      <td>9035.0</td>\n",
       "      <td>6.037113e+07</td>\n",
       "      <td>...</td>\n",
       "      <td>1972.0</td>\n",
       "      <td>253000.0</td>\n",
       "      <td>660000.0</td>\n",
       "      <td>2016.0</td>\n",
       "      <td>407000.0</td>\n",
       "      <td>8123.91</td>\n",
       "      <td>0.021066</td>\n",
       "      <td>2017-08-29</td>\n",
       "      <td>Los_Angeles</td>\n",
       "      <td>49.0</td>\n",
       "    </tr>\n",
       "  </tbody>\n",
       "</table>\n",
       "<p>2 rows × 25 columns</p>\n",
       "</div>"
      ],
      "text/plain": [
       "   parcelid  bathrooms  bedrooms  property_quality    sqft    fips  \\\n",
       "0  10711855        2.0       3.0               8.0  2107.0  6037.0   \n",
       "1  10711877        2.0       4.0               8.0  1882.0  6037.0   \n",
       "\n",
       "     latitude    longitude  lot_sqft  rawcensustractandblock  ...  yearbuilt  \\\n",
       "0  34222559.0 -118617387.0    9158.0            6.037113e+07  ...     1972.0   \n",
       "1  34220261.0 -118616409.0    9035.0            6.037113e+07  ...     1972.0   \n",
       "\n",
       "   structure_value  home_value  assessmentyear  land_value  taxamount  \\\n",
       "0         249655.0    624139.0          2016.0    374484.0    7659.36   \n",
       "1         253000.0    660000.0          2016.0    407000.0    8123.91   \n",
       "\n",
       "   logerror  transactiondate       county  home_age  \n",
       "0 -0.007357       2017-07-07  Los_Angeles      49.0  \n",
       "1  0.021066       2017-08-29  Los_Angeles      49.0  \n",
       "\n",
       "[2 rows x 25 columns]"
      ]
     },
     "execution_count": 75,
     "metadata": {},
     "output_type": "execute_result"
    }
   ],
   "source": [
    "df.head(2)"
   ]
  },
  {
   "cell_type": "code",
   "execution_count": 76,
   "metadata": {},
   "outputs": [
    {
     "data": {
      "text/plain": [
       "(71962, 25)"
      ]
     },
     "execution_count": 76,
     "metadata": {},
     "output_type": "execute_result"
    }
   ],
   "source": [
    "df.shape"
   ]
  },
  {
   "cell_type": "code",
   "execution_count": 77,
   "metadata": {},
   "outputs": [],
   "source": [
    "df['logerror_quartiles'] = pd.qcut(df.logerror, q=4, labels=['q1', 'q2', 'q3', 'q4'])"
   ]
  },
  {
   "cell_type": "code",
   "execution_count": 78,
   "metadata": {},
   "outputs": [
    {
     "data": {
      "text/plain": [
       "(71962, 26)"
      ]
     },
     "execution_count": 78,
     "metadata": {},
     "output_type": "execute_result"
    }
   ],
   "source": [
    "df.shape"
   ]
  },
  {
   "cell_type": "markdown",
   "metadata": {},
   "source": [
    "# Test out wrangle function"
   ]
  },
  {
   "cell_type": "code",
   "execution_count": 7,
   "metadata": {},
   "outputs": [],
   "source": [
    "df = w.wrangle_zillow()"
   ]
  },
  {
   "cell_type": "code",
   "execution_count": 8,
   "metadata": {},
   "outputs": [
    {
     "data": {
      "text/plain": [
       "(71818, 25)"
      ]
     },
     "execution_count": 8,
     "metadata": {},
     "output_type": "execute_result"
    }
   ],
   "source": [
    "df.shape"
   ]
  },
  {
   "cell_type": "code",
   "execution_count": 9,
   "metadata": {},
   "outputs": [
    {
     "name": "stdout",
     "output_type": "stream",
     "text": [
      "<class 'pandas.core.frame.DataFrame'>\n",
      "Int64Index: 71818 entries, 10711855 to 162960814\n",
      "Data columns (total 25 columns):\n",
      " #   Column                  Non-Null Count  Dtype   \n",
      "---  ------                  --------------  -----   \n",
      " 0   bathrooms               71818 non-null  float64 \n",
      " 1   bedrooms                71818 non-null  int64   \n",
      " 2   property_quality        71818 non-null  int64   \n",
      " 3   sqft                    71818 non-null  float64 \n",
      " 4   fips                    71818 non-null  int64   \n",
      " 5   latitude                71818 non-null  float64 \n",
      " 6   longitude               71818 non-null  float64 \n",
      " 7   lot_sqft                71818 non-null  float64 \n",
      " 8   rawcensustractandblock  71818 non-null  float64 \n",
      " 9   regionidcity            71818 non-null  float64 \n",
      " 10  regionidcounty          71818 non-null  int64   \n",
      " 11  zip_code                71818 non-null  int64   \n",
      " 12  roomcnt                 71818 non-null  int64   \n",
      " 13  unitcnt                 71818 non-null  int64   \n",
      " 14  yearbuilt               71818 non-null  int64   \n",
      " 15  structure_value         71818 non-null  float64 \n",
      " 16  taxvaluedollarcnt       71818 non-null  float64 \n",
      " 17  assessmentyear          71818 non-null  int64   \n",
      " 18  land_value              71818 non-null  float64 \n",
      " 19  taxamount               71818 non-null  float64 \n",
      " 20  logerror                71818 non-null  float64 \n",
      " 21  transactiondate         71818 non-null  object  \n",
      " 22  county                  71818 non-null  object  \n",
      " 23  home_age                71818 non-null  int64   \n",
      " 24  logerror_quartiles      71818 non-null  category\n",
      "dtypes: category(1), float64(12), int64(10), object(2)\n",
      "memory usage: 13.8+ MB\n"
     ]
    }
   ],
   "source": [
    "df.info()"
   ]
  },
  {
   "cell_type": "code",
   "execution_count": null,
   "metadata": {},
   "outputs": [],
   "source": []
  }
 ],
 "metadata": {
  "kernelspec": {
   "display_name": "Python 3",
   "language": "python",
   "name": "python3"
  },
  "language_info": {
   "codemirror_mode": {
    "name": "ipython",
    "version": 3
   },
   "file_extension": ".py",
   "mimetype": "text/x-python",
   "name": "python",
   "nbconvert_exporter": "python",
   "pygments_lexer": "ipython3",
   "version": "3.7.4"
  }
 },
 "nbformat": 4,
 "nbformat_minor": 4
}
